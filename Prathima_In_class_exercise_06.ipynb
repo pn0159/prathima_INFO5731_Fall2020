{
  "nbformat": 4,
  "nbformat_minor": 0,
  "metadata": {
    "colab": {
      "name": "Prathima_In_class_exercise_06.ipynb",
      "provenance": [],
      "collapsed_sections": [],
      "include_colab_link": true
    },
    "kernelspec": {
      "display_name": "Python 3",
      "language": "python",
      "name": "python3"
    },
    "language_info": {
      "codemirror_mode": {
        "name": "ipython",
        "version": 3
      },
      "file_extension": ".py",
      "mimetype": "text/x-python",
      "name": "python",
      "nbconvert_exporter": "python",
      "pygments_lexer": "ipython3",
      "version": "3.7.4"
    }
  },
  "cells": [
    {
      "cell_type": "markdown",
      "metadata": {
        "id": "view-in-github",
        "colab_type": "text"
      },
      "source": [
        "<a href=\"https://colab.research.google.com/github/pn0159/prathima_INFO5731_Fall2020/blob/master/Prathima_In_class_exercise_06.ipynb\" target=\"_parent\"><img src=\"https://colab.research.google.com/assets/colab-badge.svg\" alt=\"Open In Colab\"/></a>"
      ]
    },
    {
      "cell_type": "markdown",
      "metadata": {
        "id": "z7TahL04sVvR"
      },
      "source": [
        "# **The sixth in-class-exercise (20 points in total, 10/14/2020)**"
      ]
    },
    {
      "cell_type": "markdown",
      "metadata": {
        "id": "ejyZITr8sjnh"
      },
      "source": [
        "## **1. Rule-based information extraction (10 points)**\n",
        "\n",
        "Use any keywords related to data science, natural language processing, machine learning to search from google scholar, get the **titles** of 100 articles (either by web scraping or manually) about this topic, define a set of patterns to extract the research questions/problems, methods/algorithms/models, datasets, applications, or any other important information about this topic. "
      ]
    },
    {
      "cell_type": "code",
      "metadata": {
        "id": "XvR_O9D8sOUY",
        "outputId": "c1e4ad67-0539-4efd-a95a-68f89356bd5e",
        "colab": {
          "base_uri": "https://localhost:8080/",
          "height": 564
        }
      },
      "source": [
        "\n",
        "!pip uninstall tensorflow -y\n",
        "!pip install  tensorflow==1.8"
      ],
      "execution_count": 143,
      "outputs": [
        {
          "output_type": "stream",
          "text": [
            "Uninstalling tensorflow-1.15.2:\n",
            "  Successfully uninstalled tensorflow-1.15.2\n",
            "Requirement already satisfied: tensorflow==1.8 in /usr/local/lib/python3.6/dist-packages (1.8.0)\n",
            "Requirement already satisfied: absl-py>=0.1.6 in /usr/local/lib/python3.6/dist-packages (from tensorflow==1.8) (0.10.0)\n",
            "Requirement already satisfied: numpy>=1.13.3 in /usr/local/lib/python3.6/dist-packages (from tensorflow==1.8) (1.19.1)\n",
            "Collecting tensorboard<1.9.0,>=1.8.0\n",
            "  Using cached https://files.pythonhosted.org/packages/59/a6/0ae6092b7542cfedba6b2a1c9b8dceaf278238c39484f3ba03b03f07803c/tensorboard-1.8.0-py3-none-any.whl\n",
            "Requirement already satisfied: astor>=0.6.0 in /usr/local/lib/python3.6/dist-packages (from tensorflow==1.8) (0.8.1)\n",
            "Requirement already satisfied: gast>=0.2.0 in /usr/local/lib/python3.6/dist-packages (from tensorflow==1.8) (0.3.3)\n",
            "Requirement already satisfied: termcolor>=1.1.0 in /usr/local/lib/python3.6/dist-packages (from tensorflow==1.8) (1.1.0)\n",
            "Requirement already satisfied: six>=1.10.0 in /usr/local/lib/python3.6/dist-packages (from tensorflow==1.8) (1.15.0)\n",
            "Requirement already satisfied: grpcio>=1.8.6 in /usr/local/lib/python3.6/dist-packages (from tensorflow==1.8) (1.32.0)\n",
            "Requirement already satisfied: wheel>=0.26 in /usr/local/lib/python3.6/dist-packages (from tensorflow==1.8) (0.35.1)\n",
            "Requirement already satisfied: protobuf>=3.4.0 in /usr/local/lib/python3.6/dist-packages (from tensorflow==1.8) (3.12.4)\n",
            "Requirement already satisfied: bleach==1.5.0 in /usr/local/lib/python3.6/dist-packages (from tensorboard<1.9.0,>=1.8.0->tensorflow==1.8) (1.5.0)\n",
            "Requirement already satisfied: werkzeug>=0.11.10 in /usr/local/lib/python3.6/dist-packages (from tensorboard<1.9.0,>=1.8.0->tensorflow==1.8) (1.0.1)\n",
            "Requirement already satisfied: html5lib==0.9999999 in /usr/local/lib/python3.6/dist-packages (from tensorboard<1.9.0,>=1.8.0->tensorflow==1.8) (0.9999999)\n",
            "Requirement already satisfied: markdown>=2.6.8 in /usr/local/lib/python3.6/dist-packages (from tensorboard<1.9.0,>=1.8.0->tensorflow==1.8) (3.2.2)\n",
            "Requirement already satisfied: setuptools in /usr/local/lib/python3.6/dist-packages (from protobuf>=3.4.0->tensorflow==1.8) (50.3.0)\n",
            "Requirement already satisfied: importlib-metadata; python_version < \"3.8\" in /usr/local/lib/python3.6/dist-packages (from markdown>=2.6.8->tensorboard<1.9.0,>=1.8.0->tensorflow==1.8) (2.0.0)\n",
            "Requirement already satisfied: zipp>=0.5 in /usr/local/lib/python3.6/dist-packages (from importlib-metadata; python_version < \"3.8\"->markdown>=2.6.8->tensorboard<1.9.0,>=1.8.0->tensorflow==1.8) (3.2.0)\n",
            "Installing collected packages: tensorboard\n",
            "  Found existing installation: tensorboard 1.15.0\n",
            "    Uninstalling tensorboard-1.15.0:\n",
            "      Successfully uninstalled tensorboard-1.15.0\n",
            "Successfully installed tensorboard-1.8.0\n"
          ],
          "name": "stdout"
        },
        {
          "output_type": "display_data",
          "data": {
            "application/vnd.colab-display-data+json": {
              "pip_warning": {
                "packages": [
                  "tensorboard"
                ]
              }
            }
          },
          "metadata": {
            "tags": []
          }
        }
      ]
    },
    {
      "cell_type": "code",
      "metadata": {
        "id": "nFuJL2KmS8x9",
        "outputId": "c1ab9144-18de-46e8-f4f3-8f7930514c25",
        "colab": {
          "base_uri": "https://localhost:8080/",
          "height": 34
        }
      },
      "source": [
        "%tensorflow_version 1.x\n",
        "import tensorflow as tf\n",
        "print(tf.__version__)"
      ],
      "execution_count": 144,
      "outputs": [
        {
          "output_type": "stream",
          "text": [
            "1.15.2\n"
          ],
          "name": "stdout"
        }
      ]
    },
    {
      "cell_type": "code",
      "metadata": {
        "id": "CLi1MzuUstCx"
      },
      "source": [
        "import pandas as pd\n",
        "import requests\n",
        "from bs4 import BeautifulSoup\n",
        "name = [ ]\n",
        "name_List = [ ]\n",
        "page_number = [0,10,20,30,40,50,60,70,80,90]\n",
        "for i in page_number:\n",
        "  page = requests.get('https://citeseerx.ist.psu.edu/search;jsessionid=87FF6C66EA09F22314C131669600CF98?q=natural+language+processing&t=doc&sort=rlv&start='+ str (i))\n",
        "  soup = BeautifulSoup(page.content,'html.parser')\n",
        "  name.append(soup.find_all('a',class_='remove doc_details'))\n",
        "  "
      ],
      "execution_count": null,
      "outputs": []
    },
    {
      "cell_type": "code",
      "metadata": {
        "id": "bTOxaDxhS836"
      },
      "source": [
        "for j in name:\n",
        "  for k in range(len(j)):\n",
        "    name_List.append(j[k].get_text())"
      ],
      "execution_count": null,
      "outputs": []
    },
    {
      "cell_type": "code",
      "metadata": {
        "id": "5EMYv8MkV3_X",
        "outputId": "e9bac7e1-b52b-4e99-f0f7-94e41c511a58",
        "colab": {
          "base_uri": "https://localhost:8080/",
          "height": 1000
        }
      },
      "source": [
        "name_List"
      ],
      "execution_count": null,
      "outputs": [
        {
          "output_type": "execute_result",
          "data": {
            "text/plain": [
              "['\\n                  Foundations of statistical natural language processing\\n',\n",
              " '\\n                  A Maximum Entropy approach to Natural Language Processing\\n',\n",
              " '\\nNatural Language Processing\\n',\n",
              " '\\n                  Linguistics and Natural Language Processing\\n',\n",
              " '\\nNatural Language Processing\\n',\n",
              " '\\nNatural language processing (almost) from scratch \\n                  ',\n",
              " '\\nNatural language processing\\n',\n",
              " '\\nNatural Language Processing/Robotics\\n                  ',\n",
              " '\\n                  Tutorial on Natural Language Processing\\n',\n",
              " '\\n                  Ambiguities in Natural Language Processing\\n',\n",
              " '\\n                  Statistical Natural Language Processing\\n',\n",
              " '\\nNatural Language Processing for Information Retrieval\\n                  ',\n",
              " '\\nNatural Language Processing\\n',\n",
              " '\\nNatural language processing of lyrics\\n                  ',\n",
              " '\\n                  Transformation-Based Error-Driven Learning and Natural Language Processing: A Case Study in Part-of-Speech Tagging\\n                  ',\n",
              " '\\n                  Connectionist Natural Language Processing\\n',\n",
              " '\\n                  Chaos and Natural Language Processing\\n',\n",
              " '\\nNatural Language Processing:\\n                  ',\n",
              " '\\nNatural language processing: an introduction\\n                  ',\n",
              " '\\n                  Overview of Natural Language Processing\\n',\n",
              " '\\nNatural Language Processing\\n',\n",
              " '\\n                  Evaluating Natural Language Processing Systems\\n                  ',\n",
              " '\\n                  Analysis and Natural Language Processing\\n',\n",
              " '\\nNatural Language Processing using NLTK and\\n                  ',\n",
              " '\\nNatural Language Processing Complexity and Parallelism\\n                  ',\n",
              " '\\n                  Large Lexicons For Natural Language Processing:\\n                  ',\n",
              " '\\nNatural Language Processing: Structure and Complexity\\n                  ',\n",
              " '\\n                  Deep Learning for Natural Language Processing\\n',\n",
              " '\\nNatural Language Processing\\n',\n",
              " '\\nNatural Language Processing of Textual Requirements\\n                  ',\n",
              " '\\nNatural Language Processing and Information Retrieval\\n                  ',\n",
              " '\\nNatural language processing\\n',\n",
              " '\\nNatural Language Processing\\n',\n",
              " '\\nNatural Language Processing\\n',\n",
              " '\\n                  Ants for Natural Language Processing\\n',\n",
              " '\\n                  ontologies, natural language processing\\n',\n",
              " '\\nNatural language processing\\n',\n",
              " '\\n                  Retrieval or Natural Language Processing\\n',\n",
              " '\\n                  THESAURUSES FOR NATURAL LANGUAGE PROCESSING\\n',\n",
              " '\\nNatural Language Processing\\n',\n",
              " '\\nNatural Language Processing Section\\n                  ',\n",
              " '\\nNatural Language Processing for\\n                  ',\n",
              " '\\nNatural Language Processing Group\\n                  ',\n",
              " '\\n                  BIOMEDICAL NATURAL LANGUAGE PROCESSING\\n',\n",
              " '\\n                  learning in Natural Language Processing\\n',\n",
              " '\\n                  An Introduction to Natural Language Processing\\n',\n",
              " '\\nNatural Language Processing 2\\n                  ',\n",
              " '\\n                  Integrating speech and natural-language processing\\n',\n",
              " '\\n                  Paradigm Merger in Natural Language Processing\\n',\n",
              " '\\n                  on Visual Tools for Natural Language Processing\\n',\n",
              " '\\n                  Description Logics for Natural Language Processing\\n',\n",
              " '\\n                  STRUCTURE LEARNING FOR NATURAL LANGUAGE PROCESSING\\n',\n",
              " '\\n                  Commercial applications of natural language processing\\n',\n",
              " '\\n                  2008. Networks and natural language processing\\n',\n",
              " '\\n                  Current Issues in Software Engineering for Natural Language Processing\\n',\n",
              " '\\n                  Kernelized Sorting for Natural Language Processing\\n',\n",
              " '\\n                  Distributional Approaches to Natural Language Processing\\n',\n",
              " '\\n                  Decomposable Modeling in Natural Language Processing\\n',\n",
              " '\\nNatural Language Processing in Information Retrieval\\n                  ',\n",
              " '\\n                  Information Retrieval in Malayalam Using Natural Language Processing\\n',\n",
              " '\\n                  On Natural Language Processing and Plan Recognition\\n                  ',\n",
              " '\\n                  On Natural Language Processing and Plan Recognition\\n                  ',\n",
              " '\\nNatural Language Processing in Information Retrieval\\n                  ',\n",
              " '\\n                  Induction, Logic, and Natural Language Processing\\n',\n",
              " '\\n                  On Statistical Methods in Natural Language Processing\\n',\n",
              " '\\n                  Machine Learning and Natural Language Processing\\n',\n",
              " '\\n                  Machine Learning in Natural Language Processing\\n',\n",
              " '\\nNatural Language Processing In Computer-Assisted Language Learning\\n                  ',\n",
              " '\\n                  SESSION 9: NATURAL LANGUAGE PROCESSINGS\\n',\n",
              " '\\nNatural Language Processing: A Survey\\n                  ',\n",
              " '\\n                   An Overview of Probabilistic Tree Transducers for Natural Language Processing\\n',\n",
              " '\\n                  Principles of Evaluation in Natural Language Processing\\n',\n",
              " '\\nNatural Language Processing with ThoughtTreasure\\n                  ',\n",
              " '\\n                  A broad-coverage natural language processing system\\n                  ',\n",
              " '\\n                  Logic Programming for Natural Language Processing\\n',\n",
              " '\\n                  A unified architecture for natural language processing: Deep neural networks with multitask learning\\n                  ',\n",
              " '\\n                  Information Retrieval Using Robust Natural Language Processing\\n',\n",
              " '\\n                  An overview of empirical natural language processing\\n',\n",
              " '\\n                  Towards Context-adaptive Natural Language Processing Systems \\n                  ',\n",
              " '\\n                  Teaching Applied Natural Language Processing: Triumphs and Tribulations\\n                  ',\n",
              " '\\n                  On Memory Limitations In Natural Language Processing\\n',\n",
              " '\\nNatural Language Processing: An approach to Parsing and Semantic Analysis\\n                  ',\n",
              " '\\n                  A REVIEW ON THE PROGRESS OF NATURAL LANGUAGE PROCESSING IN INDIA\\n                  ',\n",
              " '\\n                  An Evaluation of LOLITA and Related Natural Language Processing Systems\\n                  ',\n",
              " '\\n                  Web-based models for natural language processing\\n',\n",
              " '\\n                  Computer-Assisted Language Learning And Natural Language Processing\\n',\n",
              " '\\n                  Learning schemata for natural language processing\\n',\n",
              " '\\n                  Software Infrastructure for Natural Language Processing\\n',\n",
              " '\\n                  1. CONFIDENCE ESTIMATION FOR NATURAL LANGUAGE PROCESSING APPLICATIONS\\n                  ',\n",
              " '\\n                  Lexical Issues in Natural Language Processing\\n',\n",
              " '\\n                  The Stanford CoreNLP Natural Language Processing Toolkit\\n                  ',\n",
              " '\\n                  Gaussian Processes for Natural Language Processing\\n',\n",
              " '\\n                  An Historical Overview of Natural Language Processing Systems That Learn\\n                  ',\n",
              " '\\n                  Upper Modeling: organizing knowledge for natural language processing\\n',\n",
              " '\\n                  Self-Organizing Maps In Natural Language Processing\\n',\n",
              " '\\n                  A Workbench for Developing Natural Language Processing Tools\\n                  ',\n",
              " '\\nNatural Language Processing and its Use in Education\\n                  ',\n",
              " '\\n                  Neural Network Computing and Natural Language Processing*\\n                  ',\n",
              " '\\n                  Text Statistics Tool Box For Natural Language Processing\\n',\n",
              " '\\n                  Using Frame Semantics in Natural Language Processing\\n']"
            ]
          },
          "metadata": {
            "tags": []
          },
          "execution_count": 18
        }
      ]
    },
    {
      "cell_type": "code",
      "metadata": {
        "id": "UUZ5rLTXS86u"
      },
      "source": [
        "df = pd.DataFrame({'Titles':name_List})"
      ],
      "execution_count": null,
      "outputs": []
    },
    {
      "cell_type": "code",
      "metadata": {
        "id": "OdtrpfyvLlH4",
        "outputId": "7d5f157e-a8f1-4e40-9c00-fabea12e6218",
        "colab": {
          "base_uri": "https://localhost:8080/",
          "height": 1000
        }
      },
      "source": [
        "result=df.values\n",
        "print(result)"
      ],
      "execution_count": 73,
      "outputs": [
        {
          "output_type": "stream",
          "text": [
            "[['\\n                  Foundations of statistical natural language processing\\n']\n",
            " ['\\n                  A Maximum Entropy approach to Natural Language Processing\\n']\n",
            " ['\\nNatural Language Processing\\n']\n",
            " ['\\n                  Linguistics and Natural Language Processing\\n']\n",
            " ['\\nNatural Language Processing\\n']\n",
            " ['\\nNatural language processing (almost) from scratch \\n                  ']\n",
            " ['\\nNatural language processing\\n']\n",
            " ['\\nNatural Language Processing/Robotics\\n                  ']\n",
            " ['\\n                  Tutorial on Natural Language Processing\\n']\n",
            " ['\\n                  Ambiguities in Natural Language Processing\\n']\n",
            " ['\\n                  Statistical Natural Language Processing\\n']\n",
            " ['\\nNatural Language Processing for Information Retrieval\\n                  ']\n",
            " ['\\nNatural Language Processing\\n']\n",
            " ['\\nNatural language processing of lyrics\\n                  ']\n",
            " ['\\n                  Transformation-Based Error-Driven Learning and Natural Language Processing: A Case Study in Part-of-Speech Tagging\\n                  ']\n",
            " ['\\n                  Connectionist Natural Language Processing\\n']\n",
            " ['\\n                  Chaos and Natural Language Processing\\n']\n",
            " ['\\nNatural Language Processing:\\n                  ']\n",
            " ['\\nNatural language processing: an introduction\\n                  ']\n",
            " ['\\n                  Overview of Natural Language Processing\\n']\n",
            " ['\\nNatural Language Processing\\n']\n",
            " ['\\n                  Evaluating Natural Language Processing Systems\\n                  ']\n",
            " ['\\n                  Analysis and Natural Language Processing\\n']\n",
            " ['\\nNatural Language Processing using NLTK and\\n                  ']\n",
            " ['\\nNatural Language Processing Complexity and Parallelism\\n                  ']\n",
            " ['\\n                  Large Lexicons For Natural Language Processing:\\n                  ']\n",
            " ['\\nNatural Language Processing: Structure and Complexity\\n                  ']\n",
            " ['\\n                  Deep Learning for Natural Language Processing\\n']\n",
            " ['\\nNatural Language Processing\\n']\n",
            " ['\\nNatural Language Processing of Textual Requirements\\n                  ']\n",
            " ['\\nNatural Language Processing and Information Retrieval\\n                  ']\n",
            " ['\\nNatural language processing\\n']\n",
            " ['\\nNatural Language Processing\\n']\n",
            " ['\\nNatural Language Processing\\n']\n",
            " ['\\n                  Ants for Natural Language Processing\\n']\n",
            " ['\\n                  ontologies, natural language processing\\n']\n",
            " ['\\nNatural language processing\\n']\n",
            " ['\\n                  Retrieval or Natural Language Processing\\n']\n",
            " ['\\n                  THESAURUSES FOR NATURAL LANGUAGE PROCESSING\\n']\n",
            " ['\\nNatural Language Processing\\n']\n",
            " ['\\nNatural Language Processing Section\\n                  ']\n",
            " ['\\nNatural Language Processing for\\n                  ']\n",
            " ['\\nNatural Language Processing Group\\n                  ']\n",
            " ['\\n                  BIOMEDICAL NATURAL LANGUAGE PROCESSING\\n']\n",
            " ['\\n                  learning in Natural Language Processing\\n']\n",
            " ['\\n                  An Introduction to Natural Language Processing\\n']\n",
            " ['\\nNatural Language Processing 2\\n                  ']\n",
            " ['\\n                  Integrating speech and natural-language processing\\n']\n",
            " ['\\n                  Paradigm Merger in Natural Language Processing\\n']\n",
            " ['\\n                  on Visual Tools for Natural Language Processing\\n']\n",
            " ['\\n                  Description Logics for Natural Language Processing\\n']\n",
            " ['\\n                  STRUCTURE LEARNING FOR NATURAL LANGUAGE PROCESSING\\n']\n",
            " ['\\n                  Commercial applications of natural language processing\\n']\n",
            " ['\\n                  2008. Networks and natural language processing\\n']\n",
            " ['\\n                  Current Issues in Software Engineering for Natural Language Processing\\n']\n",
            " ['\\n                  Kernelized Sorting for Natural Language Processing\\n']\n",
            " ['\\n                  Distributional Approaches to Natural Language Processing\\n']\n",
            " ['\\n                  Decomposable Modeling in Natural Language Processing\\n']\n",
            " ['\\nNatural Language Processing in Information Retrieval\\n                  ']\n",
            " ['\\n                  Information Retrieval in Malayalam Using Natural Language Processing\\n']\n",
            " ['\\n                  On Natural Language Processing and Plan Recognition\\n                  ']\n",
            " ['\\n                  On Natural Language Processing and Plan Recognition\\n                  ']\n",
            " ['\\nNatural Language Processing in Information Retrieval\\n                  ']\n",
            " ['\\n                  Induction, Logic, and Natural Language Processing\\n']\n",
            " ['\\n                  On Statistical Methods in Natural Language Processing\\n']\n",
            " ['\\n                  Machine Learning and Natural Language Processing\\n']\n",
            " ['\\n                  Machine Learning in Natural Language Processing\\n']\n",
            " ['\\nNatural Language Processing In Computer-Assisted Language Learning\\n                  ']\n",
            " ['\\n                  SESSION 9: NATURAL LANGUAGE PROCESSINGS\\n']\n",
            " ['\\nNatural Language Processing: A Survey\\n                  ']\n",
            " ['\\n                   An Overview of Probabilistic Tree Transducers for Natural Language Processing\\n']\n",
            " ['\\n                  Principles of Evaluation in Natural Language Processing\\n']\n",
            " ['\\nNatural Language Processing with ThoughtTreasure\\n                  ']\n",
            " ['\\n                  A broad-coverage natural language processing system\\n                  ']\n",
            " ['\\n                  Logic Programming for Natural Language Processing\\n']\n",
            " ['\\n                  A unified architecture for natural language processing: Deep neural networks with multitask learning\\n                  ']\n",
            " ['\\n                  Information Retrieval Using Robust Natural Language Processing\\n']\n",
            " ['\\n                  An overview of empirical natural language processing\\n']\n",
            " ['\\n                  Towards Context-adaptive Natural Language Processing Systems \\n                  ']\n",
            " ['\\n                  Teaching Applied Natural Language Processing: Triumphs and Tribulations\\n                  ']\n",
            " ['\\n                  On Memory Limitations In Natural Language Processing\\n']\n",
            " ['\\nNatural Language Processing: An approach to Parsing and Semantic Analysis\\n                  ']\n",
            " ['\\n                  A REVIEW ON THE PROGRESS OF NATURAL LANGUAGE PROCESSING IN INDIA\\n                  ']\n",
            " ['\\n                  An Evaluation of LOLITA and Related Natural Language Processing Systems\\n                  ']\n",
            " ['\\n                  Web-based models for natural language processing\\n']\n",
            " ['\\n                  Computer-Assisted Language Learning And Natural Language Processing\\n']\n",
            " ['\\n                  Learning schemata for natural language processing\\n']\n",
            " ['\\n                  Software Infrastructure for Natural Language Processing\\n']\n",
            " ['\\n                  1. CONFIDENCE ESTIMATION FOR NATURAL LANGUAGE PROCESSING APPLICATIONS\\n                  ']\n",
            " ['\\n                  Lexical Issues in Natural Language Processing\\n']\n",
            " ['\\n                  The Stanford CoreNLP Natural Language Processing Toolkit\\n                  ']\n",
            " ['\\n                  Gaussian Processes for Natural Language Processing\\n']\n",
            " ['\\n                  An Historical Overview of Natural Language Processing Systems That Learn\\n                  ']\n",
            " ['\\n                  Upper Modeling: organizing knowledge for natural language processing\\n']\n",
            " ['\\n                  Self-Organizing Maps In Natural Language Processing\\n']\n",
            " ['\\n                  A Workbench for Developing Natural Language Processing Tools\\n                  ']\n",
            " ['\\nNatural Language Processing and its Use in Education\\n                  ']\n",
            " ['\\n                  Neural Network Computing and Natural Language Processing*\\n                  ']\n",
            " ['\\n                  Text Statistics Tool Box For Natural Language Processing\\n']\n",
            " ['\\n                  Using Frame Semantics in Natural Language Processing\\n']]\n"
          ],
          "name": "stdout"
        }
      ]
    },
    {
      "cell_type": "code",
      "metadata": {
        "id": "brqM4K2US8-B",
        "outputId": "290b0a1a-792e-4d52-dec9-c3cb227b635a",
        "colab": {
          "base_uri": "https://localhost:8080/",
          "height": 419
        }
      },
      "source": [
        "\n",
        "df.head(100)"
      ],
      "execution_count": null,
      "outputs": [
        {
          "output_type": "execute_result",
          "data": {
            "text/html": [
              "<div>\n",
              "<style scoped>\n",
              "    .dataframe tbody tr th:only-of-type {\n",
              "        vertical-align: middle;\n",
              "    }\n",
              "\n",
              "    .dataframe tbody tr th {\n",
              "        vertical-align: top;\n",
              "    }\n",
              "\n",
              "    .dataframe thead th {\n",
              "        text-align: right;\n",
              "    }\n",
              "</style>\n",
              "<table border=\"1\" class=\"dataframe\">\n",
              "  <thead>\n",
              "    <tr style=\"text-align: right;\">\n",
              "      <th></th>\n",
              "      <th>Titles</th>\n",
              "    </tr>\n",
              "  </thead>\n",
              "  <tbody>\n",
              "    <tr>\n",
              "      <th>0</th>\n",
              "      <td>\\n                  Foundations of statistical natural language processing\\n</td>\n",
              "    </tr>\n",
              "    <tr>\n",
              "      <th>1</th>\n",
              "      <td>\\n                  A Maximum Entropy approach to Natural Language Processing\\n</td>\n",
              "    </tr>\n",
              "    <tr>\n",
              "      <th>2</th>\n",
              "      <td>\\nNatural Language Processing\\n</td>\n",
              "    </tr>\n",
              "    <tr>\n",
              "      <th>3</th>\n",
              "      <td>\\n                  Linguistics and Natural Language Processing\\n</td>\n",
              "    </tr>\n",
              "    <tr>\n",
              "      <th>4</th>\n",
              "      <td>\\nNatural Language Processing\\n</td>\n",
              "    </tr>\n",
              "    <tr>\n",
              "      <th>...</th>\n",
              "      <td>...</td>\n",
              "    </tr>\n",
              "    <tr>\n",
              "      <th>95</th>\n",
              "      <td>\\n                  A Workbench for Developing Natural Language Processing Tools\\n</td>\n",
              "    </tr>\n",
              "    <tr>\n",
              "      <th>96</th>\n",
              "      <td>\\nNatural Language Processing and its Use in Education\\n</td>\n",
              "    </tr>\n",
              "    <tr>\n",
              "      <th>97</th>\n",
              "      <td>\\n                  Neural Network Computing and Natural Language Processing*\\n</td>\n",
              "    </tr>\n",
              "    <tr>\n",
              "      <th>98</th>\n",
              "      <td>\\n                  Text Statistics Tool Box For Natural Language Processing\\n</td>\n",
              "    </tr>\n",
              "    <tr>\n",
              "      <th>99</th>\n",
              "      <td>\\n                  Using Frame Semantics in Natural Language Processing\\n</td>\n",
              "    </tr>\n",
              "  </tbody>\n",
              "</table>\n",
              "<p>100 rows × 1 columns</p>\n",
              "</div>"
            ],
            "text/plain": [
              "                                                                                                  Titles\n",
              "0                           \\n                  Foundations of statistical natural language processing\\n\n",
              "1                        \\n                  A Maximum Entropy approach to Natural Language Processing\\n\n",
              "2                                                                        \\nNatural Language Processing\\n\n",
              "3                                      \\n                  Linguistics and Natural Language Processing\\n\n",
              "4                                                                        \\nNatural Language Processing\\n\n",
              "..                                                                                                   ...\n",
              "95  \\n                  A Workbench for Developing Natural Language Processing Tools\\n                  \n",
              "96                            \\nNatural Language Processing and its Use in Education\\n                  \n",
              "97     \\n                  Neural Network Computing and Natural Language Processing*\\n                  \n",
              "98                        \\n                  Text Statistics Tool Box For Natural Language Processing\\n\n",
              "99                            \\n                  Using Frame Semantics in Natural Language Processing\\n\n",
              "\n",
              "[100 rows x 1 columns]"
            ]
          },
          "metadata": {
            "tags": []
          },
          "execution_count": 21
        }
      ]
    },
    {
      "cell_type": "code",
      "metadata": {
        "id": "5bJEwOFLkqNA"
      },
      "source": [
        "str=\"\"\n",
        "for i in result:\n",
        "  str+=i[0]"
      ],
      "execution_count": 124,
      "outputs": []
    },
    {
      "cell_type": "code",
      "metadata": {
        "id": "no2R2A3Ykx9r",
        "outputId": "7f9da484-f9c0-4756-c78f-56112b6bc0f6",
        "colab": {
          "base_uri": "https://localhost:8080/",
          "height": 171
        }
      },
      "source": [
        "str"
      ],
      "execution_count": 125,
      "outputs": [
        {
          "output_type": "execute_result",
          "data": {
            "application/vnd.google.colaboratory.intrinsic+json": {
              "type": "string"
            },
            "text/plain": [
              "'\\n                  Foundations of statistical natural language processing\\n\\n                  A Maximum Entropy approach to Natural Language Processing\\n\\nNatural Language Processing\\n\\n                  Linguistics and Natural Language Processing\\n\\nNatural Language Processing\\n\\nNatural language processing (almost) from scratch \\n                  \\nNatural language processing\\n\\nNatural Language Processing/Robotics\\n                  \\n                  Tutorial on Natural Language Processing\\n\\n                  Ambiguities in Natural Language Processing\\n\\n                  Statistical Natural Language Processing\\n\\nNatural Language Processing for Information Retrieval\\n                  \\nNatural Language Processing\\n\\nNatural language processing of lyrics\\n                  \\n                  Transformation-Based Error-Driven Learning and Natural Language Processing: A Case Study in Part-of-Speech Tagging\\n                  \\n                  Connectionist Natural Language Processing\\n\\n                  Chaos and Natural Language Processing\\n\\nNatural Language Processing:\\n                  \\nNatural language processing: an introduction\\n                  \\n                  Overview of Natural Language Processing\\n\\nNatural Language Processing\\n\\n                  Evaluating Natural Language Processing Systems\\n                  \\n                  Analysis and Natural Language Processing\\n\\nNatural Language Processing using NLTK and\\n                  \\nNatural Language Processing Complexity and Parallelism\\n                  \\n                  Large Lexicons For Natural Language Processing:\\n                  \\nNatural Language Processing: Structure and Complexity\\n                  \\n                  Deep Learning for Natural Language Processing\\n\\nNatural Language Processing\\n\\nNatural Language Processing of Textual Requirements\\n                  \\nNatural Language Processing and Information Retrieval\\n                  \\nNatural language processing\\n\\nNatural Language Processing\\n\\nNatural Language Processing\\n\\n                  Ants for Natural Language Processing\\n\\n                  ontologies, natural language processing\\n\\nNatural language processing\\n\\n                  Retrieval or Natural Language Processing\\n\\n                  THESAURUSES FOR NATURAL LANGUAGE PROCESSING\\n\\nNatural Language Processing\\n\\nNatural Language Processing Section\\n                  \\nNatural Language Processing for\\n                  \\nNatural Language Processing Group\\n                  \\n                  BIOMEDICAL NATURAL LANGUAGE PROCESSING\\n\\n                  learning in Natural Language Processing\\n\\n                  An Introduction to Natural Language Processing\\n\\nNatural Language Processing 2\\n                  \\n                  Integrating speech and natural-language processing\\n\\n                  Paradigm Merger in Natural Language Processing\\n\\n                  on Visual Tools for Natural Language Processing\\n\\n                  Description Logics for Natural Language Processing\\n\\n                  STRUCTURE LEARNING FOR NATURAL LANGUAGE PROCESSING\\n\\n                  Commercial applications of natural language processing\\n\\n                  2008. Networks and natural language processing\\n\\n                  Current Issues in Software Engineering for Natural Language Processing\\n\\n                  Kernelized Sorting for Natural Language Processing\\n\\n                  Distributional Approaches to Natural Language Processing\\n\\n                  Decomposable Modeling in Natural Language Processing\\n\\nNatural Language Processing in Information Retrieval\\n                  \\n                  Information Retrieval in Malayalam Using Natural Language Processing\\n\\n                  On Natural Language Processing and Plan Recognition\\n                  \\n                  On Natural Language Processing and Plan Recognition\\n                  \\nNatural Language Processing in Information Retrieval\\n                  \\n                  Induction, Logic, and Natural Language Processing\\n\\n                  On Statistical Methods in Natural Language Processing\\n\\n                  Machine Learning and Natural Language Processing\\n\\n                  Machine Learning in Natural Language Processing\\n\\nNatural Language Processing In Computer-Assisted Language Learning\\n                  \\n                  SESSION 9: NATURAL LANGUAGE PROCESSINGS\\n\\nNatural Language Processing: A Survey\\n                  \\n                   An Overview of Probabilistic Tree Transducers for Natural Language Processing\\n\\n                  Principles of Evaluation in Natural Language Processing\\n\\nNatural Language Processing with ThoughtTreasure\\n                  \\n                  A broad-coverage natural language processing system\\n                  \\n                  Logic Programming for Natural Language Processing\\n\\n                  A unified architecture for natural language processing: Deep neural networks with multitask learning\\n                  \\n                  Information Retrieval Using Robust Natural Language Processing\\n\\n                  An overview of empirical natural language processing\\n\\n                  Towards Context-adaptive Natural Language Processing Systems \\n                  \\n                  Teaching Applied Natural Language Processing: Triumphs and Tribulations\\n                  \\n                  On Memory Limitations In Natural Language Processing\\n\\nNatural Language Processing: An approach to Parsing and Semantic Analysis\\n                  \\n                  A REVIEW ON THE PROGRESS OF NATURAL LANGUAGE PROCESSING IN INDIA\\n                  \\n                  An Evaluation of LOLITA and Related Natural Language Processing Systems\\n                  \\n                  Web-based models for natural language processing\\n\\n                  Computer-Assisted Language Learning And Natural Language Processing\\n\\n                  Learning schemata for natural language processing\\n\\n                  Software Infrastructure for Natural Language Processing\\n\\n                  1. CONFIDENCE ESTIMATION FOR NATURAL LANGUAGE PROCESSING APPLICATIONS\\n                  \\n                  Lexical Issues in Natural Language Processing\\n\\n                  The Stanford CoreNLP Natural Language Processing Toolkit\\n                  \\n                  Gaussian Processes for Natural Language Processing\\n\\n                  An Historical Overview of Natural Language Processing Systems That Learn\\n                  \\n                  Upper Modeling: organizing knowledge for natural language processing\\n\\n                  Self-Organizing Maps In Natural Language Processing\\n\\n                  A Workbench for Developing Natural Language Processing Tools\\n                  \\nNatural Language Processing and its Use in Education\\n                  \\n                  Neural Network Computing and Natural Language Processing*\\n                  \\n                  Text Statistics Tool Box For Natural Language Processing\\n\\n                  Using Frame Semantics in Natural Language Processing\\n'"
            ]
          },
          "metadata": {
            "tags": []
          },
          "execution_count": 125
        }
      ]
    },
    {
      "cell_type": "code",
      "metadata": {
        "id": "lgPKz4DHUXr-"
      },
      "source": [
        "import re \n",
        "import string \n",
        "import nltk \n",
        "import spacy \n",
        "import pandas as pd \n",
        "import numpy as np \n",
        "import math \n",
        "from tqdm import tqdm \n",
        "\n",
        "from spacy.matcher import Matcher \n",
        "from spacy.tokens import Span \n",
        "from spacy import displacy \n",
        "\n",
        "pd.set_option('display.max_colwidth', 200)\n",
        "nlp = spacy.load(\"en_core_web_sm\")"
      ],
      "execution_count": 126,
      "outputs": []
    },
    {
      "cell_type": "code",
      "metadata": {
        "id": "nK1XhAM1U8L3",
        "outputId": "e244c6ec-a7ac-4527-aaa9-6a5e3ec1ae00",
        "colab": {
          "base_uri": "https://localhost:8080/",
          "height": 1000
        }
      },
      "source": [
        "doc = nlp(str)\n",
        "\n",
        "# print dependency tags and POS tags\n",
        "for tok in doc: \n",
        "  print(tok.text, \"-->\",tok.dep_, \"-->\",tok.pos_)\n",
        "\n",
        "# Matcher class object \n",
        "matcher = Matcher(nlp.vocab) \n",
        "\n",
        "#define the pattern \n",
        "pattern = [{'DEP':'amod', 'OP':\"?\"}, \n",
        "           {'POS':'NOUN'}, \n",
        "           {'LOWER': 'and', 'OP':\"?\"}, \n",
        "           {'LOWER': 'or', 'OP':\"?\"}, \n",
        "           {'LOWER': 'other'}, \n",
        "           {'POS': 'NOUN'}] \n",
        "           \n",
        "matcher.add(\"matching_1\", None, pattern) \n",
        "\n",
        "matches = matcher(doc) \n",
        "matches"
      ],
      "execution_count": 134,
      "outputs": [
        {
          "output_type": "stream",
          "text": [
            "\n",
            "                   -->  --> SPACE\n",
            "Foundations --> ROOT --> NOUN\n",
            "of --> prep --> ADP\n",
            "statistical --> amod --> ADJ\n",
            "natural --> amod --> ADJ\n",
            "language --> pobj --> NOUN\n",
            "processing --> acl --> NOUN\n",
            "\n",
            "\n",
            "                   -->  --> SPACE\n",
            "A --> det --> DET\n",
            "Maximum --> compound --> ADJ\n",
            "Entropy --> compound --> ADJ\n",
            "approach --> dobj --> NOUN\n",
            "to --> prep --> ADP\n",
            "Natural --> compound --> PROPN\n",
            "Language --> compound --> PROPN\n",
            "Processing --> nmod --> PROPN\n",
            "\n",
            "\n",
            " -->  --> SPACE\n",
            "Natural --> compound --> PROPN\n",
            "Language --> nmod --> PROPN\n",
            "Processing --> nmod --> PROPN\n",
            "\n",
            "\n",
            "                   -->  --> SPACE\n",
            "Linguistics --> pobj --> PROPN\n",
            "and --> cc --> CCONJ\n",
            "Natural --> compound --> PROPN\n",
            "Language --> conj --> PROPN\n",
            "Processing --> nmod --> PROPN\n",
            "\n",
            "\n",
            " -->  --> SPACE\n",
            "Natural --> compound --> PROPN\n",
            "Language --> nmod --> PROPN\n",
            "Processing --> nmod --> NOUN\n",
            "\n",
            "\n",
            " -->  --> SPACE\n",
            "Natural --> amod --> ADJ\n",
            "language --> compound --> NOUN\n",
            "processing --> ROOT --> NOUN\n",
            "( --> punct --> PUNCT\n",
            "almost --> advmod --> ADV\n",
            ") --> punct --> PUNCT\n",
            "from --> prep --> ADP\n",
            "scratch --> nmod --> NOUN\n",
            "\n",
            "                  \n",
            " -->  --> SPACE\n",
            "Natural --> amod --> ADJ\n",
            "language --> compound --> NOUN\n",
            "processing --> pobj --> NOUN\n",
            "\n",
            "\n",
            " -->  --> SPACE\n",
            "Natural --> nmod --> PROPN\n",
            "Language --> nmod --> PROPN\n",
            "Processing --> nmod --> PROPN\n",
            "/ --> punct --> SYM\n",
            "Robotics --> nmod --> PROPN\n",
            "\n",
            "                  \n",
            "                   -->  --> SPACE\n",
            "Tutorial --> ROOT --> PROPN\n",
            "on --> prep --> ADP\n",
            "Natural --> compound --> PROPN\n",
            "Language --> compound --> PROPN\n",
            "Processing --> nmod --> PROPN\n",
            "\n",
            "\n",
            "                   -->  --> SPACE\n",
            "Ambiguities --> pobj --> PROPN\n",
            "in --> prep --> ADP\n",
            "Natural --> compound --> PROPN\n",
            "Language --> pobj --> PROPN\n",
            "Processing --> ROOT --> PROPN\n",
            "\n",
            "\n",
            "                   -->  --> SPACE\n",
            "Statistical --> compound --> PROPN\n",
            "Natural --> compound --> PROPN\n",
            "Language --> nmod --> PROPN\n",
            "Processing --> nmod --> NOUN\n",
            "\n",
            "\n",
            " -->  --> SPACE\n",
            "Natural --> compound --> PROPN\n",
            "Language --> compound --> PROPN\n",
            "Processing --> dobj --> PROPN\n",
            "for --> prep --> ADP\n",
            "Information --> compound --> PROPN\n",
            "Retrieval --> nmod --> PROPN\n",
            "\n",
            "                  \n",
            " -->  --> SPACE\n",
            "Natural --> compound --> PROPN\n",
            "Language --> nmod --> PROPN\n",
            "Processing --> nmod --> NOUN\n",
            "\n",
            "\n",
            " -->  --> SPACE\n",
            "Natural --> amod --> ADJ\n",
            "language --> compound --> NOUN\n",
            "processing --> pobj --> NOUN\n",
            "of --> prep --> ADP\n",
            "lyrics --> pobj --> NOUN\n",
            "\n",
            "                  \n",
            "                   -->  --> SPACE\n",
            "Transformation --> npadvmod --> PROPN\n",
            "- --> punct --> PUNCT\n",
            "Based --> amod --> PROPN\n",
            "Error --> npadvmod --> PROPN\n",
            "- --> punct --> PUNCT\n",
            "Driven --> nmod --> VERB\n",
            "Learning --> nmod --> PROPN\n",
            "and --> cc --> CCONJ\n",
            "Natural --> compound --> PROPN\n",
            "Language --> conj --> PROPN\n",
            "Processing --> ROOT --> NOUN\n",
            ": --> punct --> PUNCT\n",
            "A --> det --> DET\n",
            "Case --> compound --> PROPN\n",
            "Study --> ROOT --> PROPN\n",
            "in --> prep --> ADP\n",
            "Part --> nmod --> NOUN\n",
            "- --> punct --> PUNCT\n",
            "of --> prep --> ADP\n",
            "- --> punct --> PUNCT\n",
            "Speech --> pobj --> NOUN\n",
            "Tagging --> pobj --> PROPN\n",
            "\n",
            "                  \n",
            "                   -->  --> SPACE\n",
            "Connectionist --> compound --> PROPN\n",
            "Natural --> compound --> PROPN\n",
            "Language --> compound --> PROPN\n",
            "Processing --> nmod --> PROPN\n",
            "\n",
            "\n",
            "                   -->  --> SPACE\n",
            "Chaos --> conj --> PROPN\n",
            "and --> cc --> CCONJ\n",
            "Natural --> compound --> PROPN\n",
            "Language --> nmod --> PROPN\n",
            "Processing --> nmod --> PROPN\n",
            "\n",
            "\n",
            " -->  --> SPACE\n",
            "Natural --> compound --> PROPN\n",
            "Language --> compound --> PROPN\n",
            "Processing --> conj --> NOUN\n",
            ": --> punct --> PUNCT\n",
            "\n",
            "                  \n",
            " -->  --> SPACE\n",
            "Natural --> amod --> ADJ\n",
            "language --> compound --> NOUN\n",
            "processing --> appos --> NOUN\n",
            ": --> punct --> PUNCT\n",
            "an --> det --> DET\n",
            "introduction --> appos --> NOUN\n",
            "\n",
            "                  \n",
            "                   -->  --> SPACE\n",
            "Overview --> conj --> NOUN\n",
            "of --> prep --> ADP\n",
            "Natural --> compound --> PROPN\n",
            "Language --> pobj --> PROPN\n",
            "Processing --> ROOT --> PROPN\n",
            "\n",
            "\n",
            " -->  --> SPACE\n",
            "Natural --> compound --> PROPN\n",
            "Language --> conj --> PROPN\n",
            "Processing --> ROOT --> NOUN\n",
            "\n",
            "\n",
            "                   -->  --> SPACE\n",
            "Evaluating --> nmod --> VERB\n",
            "Natural --> compound --> PROPN\n",
            "Language --> nmod --> PROPN\n",
            "Processing --> compound --> PROPN\n",
            "Systems --> nmod --> PROPN\n",
            "\n",
            "                  \n",
            "                   -->  --> SPACE\n",
            "Analysis --> dobj --> PROPN\n",
            "and --> cc --> CCONJ\n",
            "Natural --> compound --> PROPN\n",
            "Language --> conj --> PROPN\n",
            "Processing --> nmod --> PROPN\n",
            "\n",
            "\n",
            " -->  --> SPACE\n",
            "Natural --> compound --> PROPN\n",
            "Language --> compound --> PROPN\n",
            "Processing --> ROOT --> NOUN\n",
            "using --> acl --> VERB\n",
            "NLTK --> dobj --> PROPN\n",
            "and --> cc --> CCONJ\n",
            "\n",
            "                  \n",
            " -->  --> SPACE\n",
            "Natural --> compound --> PROPN\n",
            "Language --> compound --> PROPN\n",
            "Processing --> compound --> PROPN\n",
            "Complexity --> conj --> PROPN\n",
            "and --> cc --> CCONJ\n",
            "Parallelism --> conj --> PROPN\n",
            "\n",
            "                  \n",
            "                   -->  --> SPACE\n",
            "Large --> amod --> ADJ\n",
            "Lexicons --> dobj --> NOUN\n",
            "For --> prep --> ADP\n",
            "Natural --> compound --> PROPN\n",
            "Language --> compound --> PROPN\n",
            "Processing --> pobj --> NOUN\n",
            ": --> punct --> PUNCT\n",
            "\n",
            "                  \n",
            " -->  --> SPACE\n",
            "Natural --> compound --> PROPN\n",
            "Language --> compound --> PROPN\n",
            "Processing --> appos --> NOUN\n",
            ": --> punct --> PUNCT\n",
            "Structure --> appos --> PROPN\n",
            "and --> cc --> CCONJ\n",
            "Complexity --> conj --> NOUN\n",
            "\n",
            "                  \n",
            "                   -->  --> SPACE\n",
            "Deep --> compound --> ADJ\n",
            "Learning --> conj --> NOUN\n",
            "for --> prep --> ADP\n",
            "Natural --> compound --> PROPN\n",
            "Language --> compound --> PROPN\n",
            "Processing --> nmod --> NOUN\n",
            "\n",
            "\n",
            " -->  --> SPACE\n",
            "Natural --> compound --> PROPN\n",
            "Language --> compound --> PROPN\n",
            "Processing --> nmod --> NOUN\n",
            "\n",
            "\n",
            " -->  --> SPACE\n",
            "Natural --> compound --> PROPN\n",
            "Language --> compound --> PROPN\n",
            "Processing --> pobj --> NOUN\n",
            "of --> prep --> ADP\n",
            "Textual --> compound --> PROPN\n",
            "Requirements --> pobj --> NOUN\n",
            "\n",
            "                  \n",
            " -->  --> SPACE\n",
            "Natural --> nmod --> PROPN\n",
            "Language --> nmod --> PROPN\n",
            "Processing --> nmod --> PROPN\n",
            "and --> cc --> CCONJ\n",
            "Information --> conj --> PROPN\n",
            "Retrieval --> nmod --> PROPN\n",
            "\n",
            "                  \n",
            " -->  --> SPACE\n",
            "Natural --> amod --> ADJ\n",
            "language --> compound --> NOUN\n",
            "processing --> acl --> NOUN\n",
            "\n",
            "\n",
            " -->  --> SPACE\n",
            "Natural --> compound --> PROPN\n",
            "Language --> nmod --> PROPN\n",
            "Processing --> nmod --> NOUN\n",
            "\n",
            "\n",
            " -->  --> SPACE\n",
            "Natural --> compound --> PROPN\n",
            "Language --> conj --> PROPN\n",
            "Processing --> nmod --> NOUN\n",
            "\n",
            "\n",
            "                   -->  --> SPACE\n",
            "Ants --> ROOT --> NOUN\n",
            "for --> prep --> ADP\n",
            "Natural --> compound --> PROPN\n",
            "Language --> compound --> PROPN\n",
            "Processing --> nmod --> PROPN\n",
            "\n",
            "\n",
            "                   -->  --> SPACE\n",
            "ontologies --> pobj --> NOUN\n",
            ", --> punct --> PUNCT\n",
            "natural --> amod --> ADJ\n",
            "language --> compound --> NOUN\n",
            "processing --> conj --> NOUN\n",
            "\n",
            "\n",
            " -->  --> SPACE\n",
            "Natural --> amod --> ADJ\n",
            "language --> nmod --> NOUN\n",
            "processing --> nmod --> NOUN\n",
            "\n",
            "\n",
            "                   -->  --> SPACE\n",
            "Retrieval --> conj --> PROPN\n",
            "or --> cc --> CCONJ\n",
            "Natural --> compound --> PROPN\n",
            "Language --> conj --> PROPN\n",
            "Processing --> amod --> PROPN\n",
            "\n",
            "\n",
            "                   -->  --> SPACE\n",
            "THESAURUSES --> ROOT --> NOUN\n",
            "FOR --> prep --> ADP\n",
            "NATURAL --> amod --> ADJ\n",
            "LANGUAGE --> compound --> NOUN\n",
            "PROCESSING --> pobj --> NOUN\n",
            "\n",
            "\n",
            " -->  --> SPACE\n",
            "Natural --> compound --> PROPN\n",
            "Language --> nmod --> PROPN\n",
            "Processing --> nmod --> NOUN\n",
            "\n",
            "\n",
            " -->  --> SPACE\n",
            "Natural --> compound --> PROPN\n",
            "Language --> nmod --> PROPN\n",
            "Processing --> compound --> PROPN\n",
            "Section --> nmod --> PROPN\n",
            "\n",
            "                  \n",
            " -->  --> SPACE\n",
            "Natural --> compound --> PROPN\n",
            "Language --> compound --> PROPN\n",
            "Processing --> ROOT --> PROPN\n",
            "for --> prep --> ADP\n",
            "\n",
            "                  \n",
            " -->  --> SPACE\n",
            "Natural --> compound --> PROPN\n",
            "Language --> compound --> PROPN\n",
            "Processing --> compound --> PROPN\n",
            "Group --> pobj --> PROPN\n",
            "\n",
            "                  \n",
            "                   -->  --> SPACE\n",
            "BIOMEDICAL --> compound --> PROPN\n",
            "NATURAL --> amod --> PROPN\n",
            "LANGUAGE --> nsubj --> PROPN\n",
            "PROCESSING --> nmod --> NOUN\n",
            "\n",
            "\n",
            "                   -->  --> SPACE\n",
            "learning --> ROOT --> VERB\n",
            "in --> prep --> ADP\n",
            "Natural --> compound --> PROPN\n",
            "Language --> compound --> PROPN\n",
            "Processing --> pobj --> PROPN\n",
            "\n",
            "\n",
            "                   -->  --> SPACE\n",
            "An --> det --> DET\n",
            "Introduction --> ROOT --> NOUN\n",
            "to --> prep --> ADP\n",
            "Natural --> compound --> PROPN\n",
            "Language --> pobj --> PROPN\n",
            "Processing --> acl --> NOUN\n",
            "\n",
            "\n",
            " -->  --> SPACE\n",
            "Natural --> compound --> PROPN\n",
            "Language --> conj --> PROPN\n",
            "Processing --> ROOT --> PROPN\n",
            "2 --> nummod --> NUM\n",
            "\n",
            "                  \n",
            "                   -->  --> SPACE\n",
            "Integrating --> compound --> VERB\n",
            "speech --> dobj --> NOUN\n",
            "and --> cc --> CCONJ\n",
            "natural --> amod --> ADJ\n",
            "- --> punct --> PUNCT\n",
            "language --> conj --> NOUN\n",
            "processing --> nmod --> NOUN\n",
            "\n",
            "\n",
            "                   -->  --> SPACE\n",
            "Paradigm --> compound --> PROPN\n",
            "Merger --> conj --> PROPN\n",
            "in --> prep --> ADP\n",
            "Natural --> compound --> PROPN\n",
            "Language --> compound --> PROPN\n",
            "Processing --> pobj --> PROPN\n",
            "\n",
            "\n",
            "                   -->  --> SPACE\n",
            "on --> prep --> ADP\n",
            "Visual --> compound --> ADJ\n",
            "Tools --> pobj --> NOUN\n",
            "for --> prep --> ADP\n",
            "Natural --> compound --> PROPN\n",
            "Language --> compound --> PROPN\n",
            "Processing --> nmod --> PROPN\n",
            "\n",
            "\n",
            "                   -->  --> SPACE\n",
            "Description --> compound --> PROPN\n",
            "Logics --> pobj --> PROPN\n",
            "for --> prep --> ADP\n",
            "Natural --> compound --> PROPN\n",
            "Language --> compound --> PROPN\n",
            "Processing --> compound --> PROPN\n",
            "\n",
            "\n",
            "                   -->  --> SPACE\n",
            "STRUCTURE --> compound --> PROPN\n",
            "LEARNING --> pobj --> NOUN\n",
            "FOR --> prep --> ADP\n",
            "NATURAL --> amod --> PROPN\n",
            "LANGUAGE --> compound --> NOUN\n",
            "PROCESSING --> nmod --> NOUN\n",
            "\n",
            "\n",
            "                   -->  --> SPACE\n",
            "Commercial --> amod --> ADJ\n",
            "applications --> pobj --> NOUN\n",
            "of --> prep --> ADP\n",
            "natural --> amod --> ADJ\n",
            "language --> compound --> NOUN\n",
            "processing --> pcomp --> NOUN\n",
            "\n",
            "\n",
            "                   -->  --> SPACE\n",
            "2008 --> npadvmod --> NUM\n",
            ". --> punct --> PUNCT\n",
            "Networks --> nsubj --> NOUN\n",
            "and --> cc --> CCONJ\n",
            "natural --> amod --> ADJ\n",
            "language --> conj --> NOUN\n",
            "processing --> acl --> NOUN\n",
            "\n",
            "\n",
            "                   -->  --> SPACE\n",
            "Current --> compound --> PROPN\n",
            "Issues --> dobj --> PROPN\n",
            "in --> prep --> ADP\n",
            "Software --> compound --> PROPN\n",
            "Engineering --> pobj --> PROPN\n",
            "for --> prep --> ADP\n",
            "Natural --> compound --> PROPN\n",
            "Language --> compound --> PROPN\n",
            "Processing --> nmod --> PROPN\n",
            "\n",
            "\n",
            "                   -->  --> SPACE\n",
            "Kernelized --> compound --> VERB\n",
            "Sorting --> pobj --> PROPN\n",
            "for --> prep --> ADP\n",
            "Natural --> compound --> PROPN\n",
            "Language --> compound --> PROPN\n",
            "Processing --> nmod --> PROPN\n",
            "\n",
            "\n",
            "                   -->  --> SPACE\n",
            "Distributional --> compound --> ADJ\n",
            "Approaches --> pobj --> NOUN\n",
            "to --> prep --> ADP\n",
            "Natural --> compound --> PROPN\n",
            "Language --> compound --> PROPN\n",
            "Processing --> nmod --> PROPN\n",
            "\n",
            "\n",
            "                   -->  --> SPACE\n",
            "Decomposable --> compound --> ADJ\n",
            "Modeling --> pobj --> NOUN\n",
            "in --> prep --> ADP\n",
            "Natural --> compound --> PROPN\n",
            "Language --> compound --> PROPN\n",
            "Processing --> nmod --> PROPN\n",
            "\n",
            "\n",
            " -->  --> SPACE\n",
            "Natural --> compound --> PROPN\n",
            "Language --> compound --> PROPN\n",
            "Processing --> pobj --> PROPN\n",
            "in --> prep --> ADP\n",
            "Information --> compound --> PROPN\n",
            "Retrieval --> nmod --> PROPN\n",
            "\n",
            "                  \n",
            "                   -->  --> SPACE\n",
            "Information --> compound --> PROPN\n",
            "Retrieval --> pobj --> PROPN\n",
            "in --> prep --> ADP\n",
            "Malayalam --> pobj --> PROPN\n",
            "Using --> ROOT --> VERB\n",
            "Natural --> compound --> PROPN\n",
            "Language --> compound --> PROPN\n",
            "Processing --> dobj --> NOUN\n",
            "\n",
            "\n",
            "                   -->  --> SPACE\n",
            "On --> prep --> ADP\n",
            "Natural --> nmod --> PROPN\n",
            "Language --> nmod --> PROPN\n",
            "Processing --> nmod --> PROPN\n",
            "and --> cc --> CCONJ\n",
            "Plan --> conj --> PROPN\n",
            "Recognition --> pobj --> PROPN\n",
            "\n",
            "                  \n",
            "                   -->  --> SPACE\n",
            "On --> prep --> ADP\n",
            "Natural --> nmod --> PROPN\n",
            "Language --> nmod --> PROPN\n",
            "Processing --> nmod --> PROPN\n",
            "and --> cc --> CCONJ\n",
            "Plan --> conj --> PROPN\n",
            "Recognition --> nmod --> PROPN\n",
            "\n",
            "                  \n",
            " -->  --> SPACE\n",
            "Natural --> compound --> PROPN\n",
            "Language --> compound --> PROPN\n",
            "Processing --> nsubj --> PROPN\n",
            "in --> prep --> ADP\n",
            "Information --> compound --> PROPN\n",
            "Retrieval --> nmod --> PROPN\n",
            "\n",
            "                  \n",
            "                   -->  --> SPACE\n",
            "Induction --> pobj --> PROPN\n",
            ", --> punct --> PUNCT\n",
            "Logic --> conj --> PROPN\n",
            ", --> punct --> PUNCT\n",
            "and --> cc --> CCONJ\n",
            "Natural --> compound --> PROPN\n",
            "Language --> conj --> PROPN\n",
            "Processing --> pcomp --> PROPN\n",
            "\n",
            "\n",
            "                   -->  --> SPACE\n",
            "On --> prep --> ADP\n",
            "Statistical --> amod --> PROPN\n",
            "Methods --> pobj --> PROPN\n",
            "in --> prep --> ADP\n",
            "Natural --> compound --> PROPN\n",
            "Language --> nmod --> PROPN\n",
            "Processing --> nmod --> PROPN\n",
            "\n",
            "\n",
            "                   -->  --> SPACE\n",
            "Machine --> compound --> NOUN\n",
            "Learning --> nmod --> PROPN\n",
            "and --> cc --> CCONJ\n",
            "Natural --> compound --> PROPN\n",
            "Language --> conj --> PROPN\n",
            "Processing --> nmod --> PROPN\n",
            "\n",
            "\n",
            "                   -->  --> SPACE\n",
            "Machine --> compound --> NOUN\n",
            "Learning --> pobj --> VERB\n",
            "in --> prep --> ADP\n",
            "Natural --> compound --> PROPN\n",
            "Language --> pobj --> PROPN\n",
            "Processing --> nmod --> PROPN\n",
            "\n",
            "\n",
            " -->  --> SPACE\n",
            "Natural --> compound --> ADJ\n",
            "Language --> compound --> NOUN\n",
            "Processing --> nsubj --> NOUN\n",
            "In --> prep --> ADP\n",
            "Computer --> compound --> PROPN\n",
            "- --> punct --> PUNCT\n",
            "Assisted --> amod --> PROPN\n",
            "Language --> compound --> PROPN\n",
            "Learning --> pobj --> VERB\n",
            "\n",
            "                  \n",
            "                   -->  --> SPACE\n",
            "SESSION --> ROOT --> NOUN\n",
            "9 --> nummod --> NUM\n",
            ": --> punct --> PUNCT\n",
            "NATURAL --> amod --> PROPN\n",
            "LANGUAGE --> compound --> NOUN\n",
            "PROCESSINGS --> ROOT --> NOUN\n",
            "\n",
            "\n",
            " -->  --> SPACE\n",
            "Natural --> compound --> PROPN\n",
            "Language --> compound --> PROPN\n",
            "Processing --> ROOT --> NOUN\n",
            ": --> punct --> PUNCT\n",
            "A --> det --> DET\n",
            "Survey --> appos --> PROPN\n",
            "\n",
            "                  \n",
            "                    -->  --> SPACE\n",
            "An --> det --> DET\n",
            "Overview --> ROOT --> NOUN\n",
            "of --> prep --> ADP\n",
            "Probabilistic --> compound --> ADJ\n",
            "Tree --> compound --> PROPN\n",
            "Transducers --> pobj --> PROPN\n",
            "for --> prep --> ADP\n",
            "Natural --> compound --> PROPN\n",
            "Language --> compound --> PROPN\n",
            "Processing --> pobj --> PROPN\n",
            "\n",
            "\n",
            "                   -->  --> SPACE\n",
            "Principles --> pobj --> NOUN\n",
            "of --> prep --> ADP\n",
            "Evaluation --> pobj --> NOUN\n",
            "in --> prep --> ADP\n",
            "Natural --> compound --> PROPN\n",
            "Language --> compound --> PROPN\n",
            "Processing --> nmod --> PROPN\n",
            "\n",
            "\n",
            " -->  --> SPACE\n",
            "Natural --> compound --> PROPN\n",
            "Language --> compound --> PROPN\n",
            "Processing --> pobj --> NOUN\n",
            "with --> prep --> ADP\n",
            "ThoughtTreasure --> pobj --> PROPN\n",
            "\n",
            "                  \n",
            "                   -->  --> SPACE\n",
            "A --> det --> DET\n",
            "broad --> amod --> ADJ\n",
            "- --> punct --> PUNCT\n",
            "coverage --> nmod --> NOUN\n",
            "natural --> amod --> ADJ\n",
            "language --> compound --> NOUN\n",
            "processing --> compound --> NOUN\n",
            "system --> ROOT --> NOUN\n",
            "\n",
            "                  \n",
            "                   -->  --> SPACE\n",
            "Logic --> compound --> PROPN\n",
            "Programming --> appos --> NOUN\n",
            "for --> prep --> ADP\n",
            "Natural --> compound --> PROPN\n",
            "Language --> compound --> PROPN\n",
            "Processing --> pobj --> PROPN\n",
            "\n",
            "\n",
            "                   -->  --> SPACE\n",
            "A --> det --> DET\n",
            "unified --> amod --> VERB\n",
            "architecture --> ROOT --> NOUN\n",
            "for --> prep --> ADP\n",
            "natural --> amod --> ADJ\n",
            "language --> compound --> NOUN\n",
            "processing --> pobj --> NOUN\n",
            ": --> punct --> PUNCT\n",
            "Deep --> amod --> ADJ\n",
            "neural --> amod --> ADJ\n",
            "networks --> ROOT --> NOUN\n",
            "with --> prep --> ADP\n",
            "multitask --> compound --> NOUN\n",
            "learning --> pcomp --> VERB\n",
            "\n",
            "                  \n",
            "                   -->  --> SPACE\n",
            "Information --> compound --> PROPN\n",
            "Retrieval --> ROOT --> PROPN\n",
            "Using --> acl --> PROPN\n",
            "Robust --> compound --> PROPN\n",
            "Natural --> compound --> PROPN\n",
            "Language --> compound --> PROPN\n",
            "Processing --> dobj --> PROPN\n",
            "\n",
            "\n",
            "                   -->  --> SPACE\n",
            "An --> det --> DET\n",
            "overview --> ROOT --> NOUN\n",
            "of --> prep --> ADP\n",
            "empirical --> amod --> ADJ\n",
            "natural --> amod --> ADJ\n",
            "language --> pobj --> NOUN\n",
            "processing --> acl --> NOUN\n",
            "\n",
            "\n",
            "                   -->  --> SPACE\n",
            "Towards --> prep --> ADP\n",
            "Context --> npadvmod --> NOUN\n",
            "- --> punct --> PUNCT\n",
            "adaptive --> amod --> ADJ\n",
            "Natural --> compound --> PROPN\n",
            "Language --> compound --> PROPN\n",
            "Processing --> compound --> PROPN\n",
            "Systems --> pobj --> PROPN\n",
            "\n",
            "                  \n",
            "                   -->  --> SPACE\n",
            "Teaching --> pobj --> PROPN\n",
            "Applied --> acl --> PROPN\n",
            "Natural --> compound --> PROPN\n",
            "Language --> compound --> PROPN\n",
            "Processing --> dobj --> NOUN\n",
            ": --> punct --> PUNCT\n",
            "Triumphs --> appos --> PROPN\n",
            "and --> cc --> CCONJ\n",
            "Tribulations --> conj --> PROPN\n",
            "\n",
            "                  \n",
            "                   -->  --> SPACE\n",
            "On --> prep --> ADP\n",
            "Memory --> compound --> PROPN\n",
            "Limitations --> pobj --> NOUN\n",
            "In --> prep --> ADP\n",
            "Natural --> compound --> PROPN\n",
            "Language --> compound --> PROPN\n",
            "Processing --> nmod --> NOUN\n",
            "\n",
            "\n",
            " -->  --> SPACE\n",
            "Natural --> compound --> PROPN\n",
            "Language --> compound --> PROPN\n",
            "Processing --> pobj --> NOUN\n",
            ": --> punct --> PUNCT\n",
            "An --> det --> DET\n",
            "approach --> ROOT --> NOUN\n",
            "to --> prep --> ADP\n",
            "Parsing --> pobj --> PROPN\n",
            "and --> cc --> CCONJ\n",
            "Semantic --> compound --> ADJ\n",
            "Analysis --> conj --> PROPN\n",
            "\n",
            "                  \n",
            "                   -->  --> SPACE\n",
            "A --> det --> DET\n",
            "REVIEW --> ROOT --> NOUN\n",
            "ON --> prep --> ADP\n",
            "THE --> det --> DET\n",
            "PROGRESS --> pobj --> PROPN\n",
            "OF --> prep --> ADP\n",
            "NATURAL --> amod --> PROPN\n",
            "LANGUAGE --> compound --> PROPN\n",
            "PROCESSING --> pobj --> NOUN\n",
            "IN --> prep --> ADP\n",
            "INDIA --> pobj --> NOUN\n",
            "\n",
            "                  \n",
            "                   -->  --> SPACE\n",
            "An --> det --> DET\n",
            "Evaluation --> ROOT --> PROPN\n",
            "of --> prep --> ADP\n",
            "LOLITA --> pobj --> PROPN\n",
            "and --> cc --> CCONJ\n",
            "Related --> conj --> PROPN\n",
            "Natural --> compound --> PROPN\n",
            "Language --> compound --> PROPN\n",
            "Processing --> compound --> PROPN\n",
            "Systems --> nmod --> PROPN\n",
            "\n",
            "                  \n",
            "                   -->  --> SPACE\n",
            "Web --> npadvmod --> NOUN\n",
            "- --> punct --> PUNCT\n",
            "based --> amod --> VERB\n",
            "models --> conj --> NOUN\n",
            "for --> prep --> ADP\n",
            "natural --> amod --> ADJ\n",
            "language --> pobj --> NOUN\n",
            "processing --> acl --> NOUN\n",
            "\n",
            "\n",
            "                   -->  --> SPACE\n",
            "Computer --> npadvmod --> PROPN\n",
            "- --> punct --> PUNCT\n",
            "Assisted --> nmod --> PROPN\n",
            "Language --> compound --> PROPN\n",
            "Learning --> dobj --> PROPN\n",
            "And --> cc --> CCONJ\n",
            "Natural --> compound --> PROPN\n",
            "Language --> nmod --> PROPN\n",
            "Processing --> appos --> PROPN\n",
            "\n",
            "\n",
            "                   -->  --> SPACE\n",
            "Learning --> compound --> VERB\n",
            "schemata --> ROOT --> NOUN\n",
            "for --> prep --> ADP\n",
            "natural --> amod --> ADJ\n",
            "language --> pobj --> NOUN\n",
            "processing --> acl --> NOUN\n",
            "\n",
            "\n",
            "                   -->  --> SPACE\n",
            "Software --> compound --> NOUN\n",
            "Infrastructure --> dobj --> NOUN\n",
            "for --> prep --> ADP\n",
            "Natural --> compound --> PROPN\n",
            "Language --> compound --> PROPN\n",
            "Processing --> pobj --> PROPN\n",
            "\n",
            "\n",
            "                   -->  --> SPACE\n",
            "1 --> nummod --> NUM\n",
            ". --> punct --> PUNCT\n",
            "CONFIDENCE --> compound --> NOUN\n",
            "ESTIMATION --> ROOT --> NOUN\n",
            "FOR --> prep --> ADP\n",
            "NATURAL --> amod --> ADJ\n",
            "LANGUAGE --> compound --> NOUN\n",
            "PROCESSING --> compound --> NOUN\n",
            "APPLICATIONS --> pobj --> NOUN\n",
            "\n",
            "                  \n",
            "                   -->  --> SPACE\n",
            "Lexical --> compound --> PROPN\n",
            "Issues --> nsubj --> PROPN\n",
            "in --> prep --> ADP\n",
            "Natural --> compound --> PROPN\n",
            "Language --> pobj --> PROPN\n",
            "Processing --> ROOT --> PROPN\n",
            "\n",
            "\n",
            "                   -->  --> SPACE\n",
            "The --> det --> DET\n",
            "Stanford --> nmod --> PROPN\n",
            "CoreNLP --> punct --> PROPN\n",
            "Natural --> compound --> PROPN\n",
            "Language --> nmod --> PROPN\n",
            "Processing --> compound --> NOUN\n",
            "Toolkit --> appos --> VERB\n",
            "\n",
            "                  \n",
            "                   -->  --> SPACE\n",
            "Gaussian --> compound --> ADJ\n",
            "Processes --> ROOT --> PROPN\n",
            "for --> prep --> ADP\n",
            "Natural --> compound --> PROPN\n",
            "Language --> compound --> PROPN\n",
            "Processing --> pobj --> PROPN\n",
            "\n",
            "\n",
            "                   -->  --> SPACE\n",
            "An --> det --> DET\n",
            "Historical --> compound --> ADJ\n",
            "Overview --> ROOT --> NOUN\n",
            "of --> prep --> ADP\n",
            "Natural --> compound --> PROPN\n",
            "Language --> compound --> PROPN\n",
            "Processing --> compound --> PROPN\n",
            "Systems --> pobj --> PROPN\n",
            "That --> nsubj --> DET\n",
            "Learn --> relcl --> VERB\n",
            "\n",
            "                  \n",
            "                   -->  --> SPACE\n",
            "Upper --> compound --> PROPN\n",
            "Modeling --> ROOT --> NOUN\n",
            ": --> punct --> PUNCT\n",
            "organizing --> acl --> VERB\n",
            "knowledge --> dobj --> NOUN\n",
            "for --> prep --> ADP\n",
            "natural --> amod --> ADJ\n",
            "language --> pobj --> NOUN\n",
            "processing --> acl --> NOUN\n",
            "\n",
            "\n",
            "                   -->  --> SPACE\n",
            "Self --> npadvmod --> NOUN\n",
            "- --> punct --> PUNCT\n",
            "Organizing --> amod --> NOUN\n",
            "Maps --> dobj --> PROPN\n",
            "In --> prep --> ADP\n",
            "Natural --> compound --> PROPN\n",
            "Language --> pobj --> PROPN\n",
            "Processing --> pobj --> PROPN\n",
            "\n",
            "\n",
            "                   -->  --> SPACE\n",
            "A --> det --> DET\n",
            "Workbench --> dobj --> PROPN\n",
            "for --> prep --> ADP\n",
            "Developing --> nmod --> VERB\n",
            "Natural --> compound --> PROPN\n",
            "Language --> nmod --> PROPN\n",
            "Processing --> compound --> PROPN\n",
            "Tools --> pobj --> PROPN\n",
            "\n",
            "                  \n",
            " -->  --> SPACE\n",
            "Natural --> compound --> PROPN\n",
            "Language --> compound --> PROPN\n",
            "Processing --> conj --> PROPN\n",
            "and --> cc --> CCONJ\n",
            "its --> poss --> DET\n",
            "Use --> conj --> PROPN\n",
            "in --> prep --> ADP\n",
            "Education --> pobj --> PROPN\n",
            "\n",
            "                  \n",
            "                   -->  --> SPACE\n",
            "Neural --> compound --> PROPN\n",
            "Network --> compound --> PROPN\n",
            "Computing --> conj --> PROPN\n",
            "and --> cc --> CCONJ\n",
            "Natural --> compound --> PROPN\n",
            "Language --> conj --> PROPN\n",
            "Processing --> ROOT --> PROPN\n",
            "* --> ROOT --> PUNCT\n",
            "\n",
            "                  \n",
            "                   -->  --> SPACE\n",
            "Text --> compound --> NOUN\n",
            "Statistics --> compound --> NOUN\n",
            "Tool --> compound --> PROPN\n",
            "Box --> ROOT --> PROPN\n",
            "For --> prep --> ADP\n",
            "Natural --> compound --> PROPN\n",
            "Language --> compound --> PROPN\n",
            "Processing --> pobj --> PROPN\n",
            "\n",
            "\n",
            "                   -->  --> SPACE\n",
            "Using --> ROOT --> VERB\n",
            "Frame --> compound --> PROPN\n",
            "Semantics --> dobj --> PROPN\n",
            "in --> prep --> ADP\n",
            "Natural --> compound --> PROPN\n",
            "Language --> compound --> PROPN\n",
            "Processing --> pobj --> PROPN\n",
            "\n",
            " -->  --> SPACE\n"
          ],
          "name": "stdout"
        },
        {
          "output_type": "execute_result",
          "data": {
            "text/plain": [
              "[]"
            ]
          },
          "metadata": {
            "tags": []
          },
          "execution_count": 134
        }
      ]
    },
    {
      "cell_type": "markdown",
      "metadata": {
        "id": "Dq_7VGmrsum4"
      },
      "source": [
        "## **2. Domain-specific information extraction (10 points)**\n",
        "\n",
        "For the legal case used in the data cleaning exercise: [01-05-1 Adams v Tanner.txt](https://github.com/unt-iialab/INFO5731_FALL2020/blob/master/In_class_exercise/01-05-1%20%20Adams%20v%20Tanner.txt), use [legalNLP](https://lexpredict-lexnlp.readthedocs.io/en/latest/modules/extract/extract.html#nlp-based-extraction-methods) to extract the following inforation from the text (if the information is not exist, just print None):\n",
        "\n",
        "(1) acts, e.g., “section 1 of the Advancing Hope Act, 1986”\n",
        "\n",
        "(2) amounts, e.g., “ten pounds” or “5.8 megawatts”\n",
        "\n",
        "(3) citations, e.g., “10 U.S. 100” or “1998 S. Ct. 1”\n",
        "\n",
        "(4) companies, e.g., “Lexpredict LLC”\n",
        "\n",
        "(5) conditions, e.g., “subject to …” or “unless and until …”\n",
        "\n",
        "(6) constraints, e.g., “no more than”\n",
        "\n",
        "(7) copyright, e.g., “(C) Copyright 2000 Acme”\n",
        "\n",
        "(8) courts, e.g., “Supreme Court of New York”\n",
        "\n",
        "(9) CUSIP, e.g., “392690QT3”\n",
        "\n",
        "(10) dates, e.g., “June 1, 2017” or “2018-01-01”\n",
        "\n",
        "(11) definitions, e.g., “Term shall mean …”\n",
        "\n",
        "(12) distances, e.g., “fifteen miles”\n",
        "\n",
        "(13) durations, e.g., “ten years” or “thirty days”\n",
        "\n",
        "(14) geographic and geopolitical entities, e.g., “New York” or “Norway”\n",
        "\n",
        "(15) money and currency usages, e.g., “$5” or “10 Euro”\n",
        "\n",
        "(16) percents and rates, e.g., “10%” or “50 bps”\n",
        "\n",
        "(17) PII, e.g., “212-212-2121” or “999-999-9999”\n",
        "\n",
        "(18) ratios, e.g.,” 3:1” or “four to three”\n",
        "\n",
        "(19) regulations, e.g., “32 CFR 170”\n",
        "\n",
        "(20) trademarks, e.g., “MyApp (TM)”\n",
        "\n",
        "(21) URLs, e.g., “http://acme.com/”\n",
        "\n",
        "(22) addresses, e.g., “1999 Mount Read Blvd, Rochester, NY, USA, 14615”\n",
        "\n",
        "(23) persons, e.g., “John Doe"
      ]
    },
    {
      "cell_type": "code",
      "metadata": {
        "id": "LCxoUvqPdhrp",
        "outputId": "9ecd5f0c-7706-4513-e4fe-ac5527a3a60c",
        "colab": {
          "base_uri": "https://localhost:8080/",
          "height": 1000
        }
      },
      "source": [
        "!pip install lexnlp"
      ],
      "execution_count": 89,
      "outputs": [
        {
          "output_type": "stream",
          "text": [
            "Collecting lexnlp\n",
            "\u001b[?25l  Downloading https://files.pythonhosted.org/packages/a1/d3/2c3f8595eb1aa418d820130e9d4d2b56c82fd2f88f1cb9720983d2f0b4f2/lexnlp-1.7.0-py3-none-any.whl (9.7MB)\n",
            "\u001b[K     |████████████████████████████████| 9.7MB 3.4MB/s \n",
            "\u001b[?25hCollecting pycountry==20.7.3\n",
            "\u001b[?25l  Downloading https://files.pythonhosted.org/packages/76/73/6f1a412f14f68c273feea29a6ea9b9f1e268177d32e0e69ad6790d306312/pycountry-20.7.3.tar.gz (10.1MB)\n",
            "\u001b[K     |████████████████████████████████| 10.1MB 42.6MB/s \n",
            "\u001b[?25hCollecting numpy==1.19.1\n",
            "\u001b[?25l  Downloading https://files.pythonhosted.org/packages/b1/9a/7d474ba0860a41f771c9523d8c4ea56b084840b5ca4092d96bdee8a3b684/numpy-1.19.1-cp36-cp36m-manylinux2010_x86_64.whl (14.5MB)\n",
            "\u001b[K     |████████████████████████████████| 14.5MB 174kB/s \n",
            "\u001b[?25hCollecting Unidecode==1.1.1\n",
            "\u001b[?25l  Downloading https://files.pythonhosted.org/packages/d0/42/d9edfed04228bacea2d824904cae367ee9efd05e6cce7ceaaedd0b0ad964/Unidecode-1.1.1-py2.py3-none-any.whl (238kB)\n",
            "\u001b[K     |████████████████████████████████| 245kB 45.5MB/s \n",
            "\u001b[?25hCollecting scikit-learn==0.23.1\n",
            "\u001b[?25l  Downloading https://files.pythonhosted.org/packages/d9/3a/eb8d7bbe28f4787d140bb9df685b7d5bf6115c0e2a969def4027144e98b6/scikit_learn-0.23.1-cp36-cp36m-manylinux1_x86_64.whl (6.8MB)\n",
            "\u001b[K     |████████████████████████████████| 6.9MB 42.1MB/s \n",
            "\u001b[?25hCollecting gensim==3.8.3\n",
            "\u001b[?25l  Downloading https://files.pythonhosted.org/packages/2b/e0/fa6326251692056dc880a64eb22117e03269906ba55a6864864d24ec8b4e/gensim-3.8.3-cp36-cp36m-manylinux1_x86_64.whl (24.2MB)\n",
            "\u001b[K     |████████████████████████████████| 24.2MB 1.7MB/s \n",
            "\u001b[?25hCollecting num2words==0.5.10\n",
            "\u001b[?25l  Downloading https://files.pythonhosted.org/packages/eb/a2/ea800689730732e27711c41beed4b2a129b34974435bdc450377ec407738/num2words-0.5.10-py3-none-any.whl (101kB)\n",
            "\u001b[K     |████████████████████████████████| 102kB 9.6MB/s \n",
            "\u001b[?25hCollecting dateparser==0.7.2\n",
            "\u001b[?25l  Downloading https://files.pythonhosted.org/packages/82/9d/51126ac615bbc4418478d725a5fa1a0f112059f6f111e4b48cfbe17ef9d0/dateparser-0.7.2-py2.py3-none-any.whl (352kB)\n",
            "\u001b[K     |████████████████████████████████| 358kB 45.1MB/s \n",
            "\u001b[?25hCollecting pandas==0.24.2\n",
            "\u001b[?25l  Downloading https://files.pythonhosted.org/packages/19/74/e50234bc82c553fecdbd566d8650801e3fe2d6d8c8d940638e3d8a7c5522/pandas-0.24.2-cp36-cp36m-manylinux1_x86_64.whl (10.1MB)\n",
            "\u001b[K     |████████████████████████████████| 10.1MB 43.4MB/s \n",
            "\u001b[?25hCollecting requests==2.24.0\n",
            "\u001b[?25l  Downloading https://files.pythonhosted.org/packages/45/1e/0c169c6a5381e241ba7404532c16a21d86ab872c9bed8bdcd4c423954103/requests-2.24.0-py2.py3-none-any.whl (61kB)\n",
            "\u001b[K     |████████████████████████████████| 71kB 7.7MB/s \n",
            "\u001b[?25hCollecting nltk==3.5\n",
            "\u001b[?25l  Downloading https://files.pythonhosted.org/packages/92/75/ce35194d8e3022203cca0d2f896dbb88689f9b3fce8e9f9cff942913519d/nltk-3.5.zip (1.4MB)\n",
            "\u001b[K     |████████████████████████████████| 1.4MB 41.7MB/s \n",
            "\u001b[?25hCollecting scipy==1.5.1\n",
            "\u001b[?25l  Downloading https://files.pythonhosted.org/packages/ab/f9/6eeed6d5cd8dd435bbf105d10d778c2d76de1a5838fdbc315a59fb7fad64/scipy-1.5.1-cp36-cp36m-manylinux1_x86_64.whl (25.9MB)\n",
            "\u001b[K     |████████████████████████████████| 25.9MB 143kB/s \n",
            "\u001b[?25hCollecting datefinder-lexpredict==0.6.2\n",
            "  Downloading https://files.pythonhosted.org/packages/27/47/9a38724045b30e2e4d1c5e3e08fd3b0770dedb2e9ca92c1347b9e2182470/datefinder_lexpredict-0.6.2-py2.py3-none-any.whl\n",
            "Collecting us==2.0.2\n",
            "  Downloading https://files.pythonhosted.org/packages/88/04/04323aefa1871de30286d3decae7706481c73bd428cf0c08e158bfa259a6/us-2.0.2.tar.gz\n",
            "Collecting regex==2020.7.14\n",
            "\u001b[?25l  Downloading https://files.pythonhosted.org/packages/66/f2/b3af9ce9df4b7e121dfeece41fc95e37b14f0153821f35d08edb0b0813ff/regex-2020.7.14-cp36-cp36m-manylinux2010_x86_64.whl (660kB)\n",
            "\u001b[K     |████████████████████████████████| 665kB 40.1MB/s \n",
            "\u001b[?25hCollecting reporters-db==2.0.3\n",
            "\u001b[?25l  Downloading https://files.pythonhosted.org/packages/6b/e9/498bada93e69e3162a027d9285e852c464d66aae23ec3c845700ee117414/reporters_db-2.0.3-py2.py3-none-any.whl (72kB)\n",
            "\u001b[K     |████████████████████████████████| 81kB 9.0MB/s \n",
            "\u001b[?25hCollecting threadpoolctl>=2.0.0\n",
            "  Downloading https://files.pythonhosted.org/packages/f7/12/ec3f2e203afa394a149911729357aa48affc59c20e2c1c8297a60f33f133/threadpoolctl-2.1.0-py3-none-any.whl\n",
            "Requirement already satisfied: joblib>=0.11 in /usr/local/lib/python3.6/dist-packages (from scikit-learn==0.23.1->lexnlp) (0.16.0)\n",
            "Requirement already satisfied: smart-open>=1.8.1 in /usr/local/lib/python3.6/dist-packages (from gensim==3.8.3->lexnlp) (2.2.0)\n",
            "Requirement already satisfied: six>=1.5.0 in /usr/local/lib/python3.6/dist-packages (from gensim==3.8.3->lexnlp) (1.15.0)\n",
            "Requirement already satisfied: docopt>=0.6.2 in /usr/local/lib/python3.6/dist-packages (from num2words==0.5.10->lexnlp) (0.6.2)\n",
            "Requirement already satisfied: pytz in /usr/local/lib/python3.6/dist-packages (from dateparser==0.7.2->lexnlp) (2018.9)\n",
            "Requirement already satisfied: tzlocal in /usr/local/lib/python3.6/dist-packages (from dateparser==0.7.2->lexnlp) (1.5.1)\n",
            "Requirement already satisfied: python-dateutil in /usr/local/lib/python3.6/dist-packages (from dateparser==0.7.2->lexnlp) (2.8.1)\n",
            "Requirement already satisfied: certifi>=2017.4.17 in /usr/local/lib/python3.6/dist-packages (from requests==2.24.0->lexnlp) (2020.6.20)\n",
            "Requirement already satisfied: chardet<4,>=3.0.2 in /usr/local/lib/python3.6/dist-packages (from requests==2.24.0->lexnlp) (3.0.4)\n",
            "Requirement already satisfied: urllib3!=1.25.0,!=1.25.1,<1.26,>=1.21.1 in /usr/local/lib/python3.6/dist-packages (from requests==2.24.0->lexnlp) (1.24.3)\n",
            "Requirement already satisfied: idna<3,>=2.5 in /usr/local/lib/python3.6/dist-packages (from requests==2.24.0->lexnlp) (2.10)\n",
            "Requirement already satisfied: click in /usr/local/lib/python3.6/dist-packages (from nltk==3.5->lexnlp) (7.1.2)\n",
            "Requirement already satisfied: tqdm in /usr/local/lib/python3.6/dist-packages (from nltk==3.5->lexnlp) (4.41.1)\n",
            "Collecting jellyfish==0.6.1\n",
            "\u001b[?25l  Downloading https://files.pythonhosted.org/packages/61/3f/60ac86fb43dfbf976768e80674b5538e535f6eca5aa7806cf2fdfd63550f/jellyfish-0.6.1.tar.gz (132kB)\n",
            "\u001b[K     |████████████████████████████████| 133kB 48.8MB/s \n",
            "\u001b[?25hBuilding wheels for collected packages: pycountry, nltk, us, jellyfish\n",
            "  Building wheel for pycountry (setup.py) ... \u001b[?25l\u001b[?25hdone\n",
            "  Created wheel for pycountry: filename=pycountry-20.7.3-py2.py3-none-any.whl size=10746865 sha256=23b130ab91acea1426737803f4659e1eb03318ec1866f1506d03d51895a342fc\n",
            "  Stored in directory: /root/.cache/pip/wheels/33/4e/a6/be297e6b83567e537bed9df4a93f8590ec01c1acfbcd405348\n",
            "  Building wheel for nltk (setup.py) ... \u001b[?25l\u001b[?25hdone\n",
            "  Created wheel for nltk: filename=nltk-3.5-cp36-none-any.whl size=1434677 sha256=726e485afe726c973a0754962f105090f495d07b2ace8fb54efb46f2b15b4552\n",
            "  Stored in directory: /root/.cache/pip/wheels/ae/8c/3f/b1fe0ba04555b08b57ab52ab7f86023639a526d8bc8d384306\n",
            "  Building wheel for us (setup.py) ... \u001b[?25l\u001b[?25hdone\n",
            "  Created wheel for us: filename=us-2.0.2-cp36-none-any.whl size=11928 sha256=9cc7800ad582641715fccdf69d62039e6b7fd56f89cd7ad005ad5f873eab9d01\n",
            "  Stored in directory: /root/.cache/pip/wheels/e2/16/45/6453383ffa495670f0f6b80a3e697a9771d98cfbaf8b451e73\n",
            "  Building wheel for jellyfish (setup.py) ... \u001b[?25l\u001b[?25hdone\n",
            "  Created wheel for jellyfish: filename=jellyfish-0.6.1-cp36-cp36m-linux_x86_64.whl size=74738 sha256=907d19f4d37bdf0cd0c66640031213c25371af0c4e46b168e198f11985b591cf\n",
            "  Stored in directory: /root/.cache/pip/wheels/9c/6f/33/92bb9a4b4562a60ba6a80cedbab8907e48bc7a8b1f369ea0ae\n",
            "Successfully built pycountry nltk us jellyfish\n",
            "\u001b[31mERROR: tensorflow 1.15.2 has requirement gast==0.2.2, but you'll have gast 0.3.3 which is incompatible.\u001b[0m\n",
            "\u001b[31mERROR: xarray 0.15.1 has requirement pandas>=0.25, but you'll have pandas 0.24.2 which is incompatible.\u001b[0m\n",
            "\u001b[31mERROR: plotnine 0.6.0 has requirement pandas>=0.25.0, but you'll have pandas 0.24.2 which is incompatible.\u001b[0m\n",
            "\u001b[31mERROR: mizani 0.6.0 has requirement pandas>=0.25.0, but you'll have pandas 0.24.2 which is incompatible.\u001b[0m\n",
            "\u001b[31mERROR: google-colab 1.0.0 has requirement pandas~=1.1.0; python_version >= \"3.0\", but you'll have pandas 0.24.2 which is incompatible.\u001b[0m\n",
            "\u001b[31mERROR: google-colab 1.0.0 has requirement requests~=2.23.0, but you'll have requests 2.24.0 which is incompatible.\u001b[0m\n",
            "\u001b[31mERROR: fbprophet 0.7.1 has requirement pandas>=1.0.4, but you'll have pandas 0.24.2 which is incompatible.\u001b[0m\n",
            "\u001b[31mERROR: datascience 0.10.6 has requirement folium==0.2.1, but you'll have folium 0.8.3 which is incompatible.\u001b[0m\n",
            "\u001b[31mERROR: albumentations 0.1.12 has requirement imgaug<0.2.7,>=0.2.5, but you'll have imgaug 0.2.9 which is incompatible.\u001b[0m\n",
            "\u001b[31mERROR: datefinder-lexpredict 0.6.2 has requirement regex==2017.9.23, but you'll have regex 2020.7.14 which is incompatible.\u001b[0m\n",
            "Installing collected packages: pycountry, numpy, Unidecode, scipy, threadpoolctl, scikit-learn, gensim, num2words, regex, dateparser, pandas, requests, nltk, datefinder-lexpredict, jellyfish, us, reporters-db, lexnlp\n",
            "  Found existing installation: numpy 1.18.5\n",
            "    Uninstalling numpy-1.18.5:\n",
            "      Successfully uninstalled numpy-1.18.5\n",
            "  Found existing installation: scipy 1.4.1\n",
            "    Uninstalling scipy-1.4.1:\n",
            "      Successfully uninstalled scipy-1.4.1\n",
            "  Found existing installation: scikit-learn 0.22.2.post1\n",
            "    Uninstalling scikit-learn-0.22.2.post1:\n",
            "      Successfully uninstalled scikit-learn-0.22.2.post1\n",
            "  Found existing installation: gensim 3.6.0\n",
            "    Uninstalling gensim-3.6.0:\n",
            "      Successfully uninstalled gensim-3.6.0\n",
            "  Found existing installation: regex 2019.12.20\n",
            "    Uninstalling regex-2019.12.20:\n",
            "      Successfully uninstalled regex-2019.12.20\n",
            "  Found existing installation: pandas 1.1.2\n",
            "    Uninstalling pandas-1.1.2:\n",
            "      Successfully uninstalled pandas-1.1.2\n",
            "  Found existing installation: requests 2.23.0\n",
            "    Uninstalling requests-2.23.0:\n",
            "      Successfully uninstalled requests-2.23.0\n",
            "  Found existing installation: nltk 3.2.5\n",
            "    Uninstalling nltk-3.2.5:\n",
            "      Successfully uninstalled nltk-3.2.5\n",
            "Successfully installed Unidecode-1.1.1 datefinder-lexpredict-0.6.2 dateparser-0.7.2 gensim-3.8.3 jellyfish-0.6.1 lexnlp-1.7.0 nltk-3.5 num2words-0.5.10 numpy-1.19.1 pandas-0.24.2 pycountry-20.7.3 regex-2020.7.14 reporters-db-2.0.3 requests-2.24.0 scikit-learn-0.23.1 scipy-1.5.1 threadpoolctl-2.1.0 us-2.0.2\n"
          ],
          "name": "stdout"
        },
        {
          "output_type": "display_data",
          "data": {
            "application/vnd.colab-display-data+json": {
              "pip_warning": {
                "packages": [
                  "nltk",
                  "numpy",
                  "pandas",
                  "regex",
                  "requests",
                  "scipy",
                  "sklearn"
                ]
              }
            }
          },
          "metadata": {
            "tags": []
          }
        }
      ]
    },
    {
      "cell_type": "code",
      "metadata": {
        "id": "CqS2cAdQdhub"
      },
      "source": [
        "all_text = open(\"/content/sample_data/exercise.txt\").read()"
      ],
      "execution_count": 91,
      "outputs": []
    },
    {
      "cell_type": "code",
      "metadata": {
        "id": "qVCK2ZILdhx2",
        "outputId": "c8b3e4a9-d0a2-4c3c-e162-568cb77172d2",
        "colab": {
          "base_uri": "https://localhost:8080/",
          "height": 153
        }
      },
      "source": [
        "import nltk\n",
        "nltk.download('punkt')\n",
        "nltk.download('averaged_perceptron_tagger')\n",
        "nltk.download('wordnet')"
      ],
      "execution_count": 92,
      "outputs": [
        {
          "output_type": "stream",
          "text": [
            "[nltk_data] Downloading package punkt to /root/nltk_data...\n",
            "[nltk_data]   Unzipping tokenizers/punkt.zip.\n",
            "[nltk_data] Downloading package averaged_perceptron_tagger to\n",
            "[nltk_data]     /root/nltk_data...\n",
            "[nltk_data]   Unzipping taggers/averaged_perceptron_tagger.zip.\n",
            "[nltk_data] Downloading package wordnet to /root/nltk_data...\n",
            "[nltk_data]   Unzipping corpora/wordnet.zip.\n"
          ],
          "name": "stdout"
        },
        {
          "output_type": "execute_result",
          "data": {
            "text/plain": [
              "True"
            ]
          },
          "metadata": {
            "tags": []
          },
          "execution_count": 92
        }
      ]
    },
    {
      "cell_type": "code",
      "metadata": {
        "id": "b5TfAQ6Yd0Hp",
        "outputId": "aeac53c0-c60f-4433-e321-517fd5b2361f",
        "colab": {
          "base_uri": "https://localhost:8080/",
          "height": 34
        }
      },
      "source": [
        "import lexnlp.extract.en.acts\n",
        "print(lexnlp.extract.en.acts.get_act_list(all_text))"
      ],
      "execution_count": 93,
      "outputs": [
        {
          "output_type": "stream",
          "text": [
            "[]\n"
          ],
          "name": "stdout"
        }
      ]
    },
    {
      "cell_type": "code",
      "metadata": {
        "id": "JgQ7h9Jnd0KR",
        "outputId": "646f4a6b-ca84-4ede-9dde-fa17e873625f",
        "colab": {
          "base_uri": "https://localhost:8080/",
          "height": 1000
        }
      },
      "source": [
        "import lexnlp.extract.en.amounts\n",
        "list(lexnlp.extract.en.amounts.get_amounts(all_text))"
      ],
      "execution_count": 94,
      "outputs": [
        {
          "output_type": "execute_result",
          "data": {
            "text/plain": [
              "[5.0,\n",
              " 740.0,\n",
              " 1843.0,\n",
              " 2.0,\n",
              " 1.0,\n",
              " 4.0,\n",
              " 2.0,\n",
              " 1821.0,\n",
              " 5.0,\n",
              " 1.0,\n",
              " 1840.0,\n",
              " 3777,\n",
              " 80.0,\n",
              " 100.0,\n",
              " 30,\n",
              " 1839.0,\n",
              " 741.0,\n",
              " 22,\n",
              " 1840.0,\n",
              " 14000,\n",
              " 120,\n",
              " 1,\n",
              " 1840.0,\n",
              " 3,\n",
              " 4,\n",
              " 1,\n",
              " 1.0,\n",
              " 1840.0,\n",
              " 2.0,\n",
              " 1.0,\n",
              " 361.0,\n",
              " 1.0,\n",
              " 307.0,\n",
              " 6.0,\n",
              " 604.0,\n",
              " 1.0,\n",
              " 2.0,\n",
              " 418.0,\n",
              " 422.0,\n",
              " 7.0,\n",
              " 34.0,\n",
              " 41.0,\n",
              " 167.0,\n",
              " 742.0,\n",
              " 3.0,\n",
              " 112.0,\n",
              " 207.0,\n",
              " 3.0,\n",
              " 338.0,\n",
              " 424.0,\n",
              " 5.0,\n",
              " 26.0,\n",
              " 13.0,\n",
              " 235.0,\n",
              " 8.0,\n",
              " 693.0,\n",
              " 4.0,\n",
              " 1821.0,\n",
              " 167.0,\n",
              " 2.0,\n",
              " 2.0,\n",
              " 216.0,\n",
              " 3.0,\n",
              " 66.0,\n",
              " 4.0,\n",
              " 130.0,\n",
              " 29.0,\n",
              " 2.0,\n",
              " 241.0,\n",
              " 2.0,\n",
              " 332.0,\n",
              " 2.0,\n",
              " 422.0,\n",
              " 9.0,\n",
              " 112.0,\n",
              " 743.0,\n",
              " 9.0,\n",
              " 39.0,\n",
              " 14000,\n",
              " 1840.0,\n",
              " 744.0,\n",
              " 5.0,\n",
              " 182.0,\n",
              " 3.0,\n",
              " 368.0,\n",
              " 1.0,\n",
              " 397.0,\n",
              " 6.0,\n",
              " 604.0,\n",
              " 1,\n",
              " 1821.0,\n",
              " 167.0,\n",
              " 745.0,\n",
              " 4.0,\n",
              " 746.0,\n",
              " 4.0,\n",
              " 210.0,\n",
              " 46.0,\n",
              " 747.0,\n",
              " 5.0,\n",
              " 5.0,\n",
              " 740.0,\n",
              " 1843.0,\n",
              " 284.0,\n",
              " 2019.0,\n",
              " 9.0,\n",
              " 1.0,\n",
              " 55.0,\n",
              " 266.0,\n",
              " 271.0,\n",
              " 1876.0,\n",
              " 2.0,\n",
              " 47.0,\n",
              " 362.0,\n",
              " 376.0,\n",
              " 1872.0,\n",
              " 3.0,\n",
              " 45.0,\n",
              " 329.0,\n",
              " 334.0,\n",
              " 1871.0,\n",
              " 4.0,\n",
              " 31.0,\n",
              " 526.0,\n",
              " 527.0,\n",
              " 1858.0,\n",
              " 5.0,\n",
              " 21.0,\n",
              " 333.0,\n",
              " 335.0,\n",
              " 1852.0,\n",
              " 6.0,\n",
              " 8.0,\n",
              " 145.0,\n",
              " 147.0,\n",
              " 1857.0,\n",
              " 7.0,\n",
              " 65.0,\n",
              " 256.0,\n",
              " 258.0,\n",
              " 3,\n",
              " 1880.0,\n",
              " 8.0,\n",
              " 4.0,\n",
              " 913.0,\n",
              " 914.0,\n",
              " 1887.0,\n",
              " 9.0,\n",
              " 103.0,\n",
              " 464.0,\n",
              " 1936.0,\n",
              " 3.0,\n",
              " 1.0,\n",
              " 9.0,\n",
              " 39.0,\n",
              " 1828.0,\n",
              " 2.0,\n",
              " 2.0,\n",
              " 5.0,\n",
              " 182.0,\n",
              " 1837.0,\n",
              " 2.0,\n",
              " 3.0,\n",
              " 9.0,\n",
              " 108.0,\n",
              " 1812.0,\n",
              " 6,\n",
              " 1,\n",
              " 2.0]"
            ]
          },
          "metadata": {
            "tags": []
          },
          "execution_count": 94
        }
      ]
    },
    {
      "cell_type": "code",
      "metadata": {
        "id": "TQD_b3pWd0Nw",
        "outputId": "218bc898-cad5-48e6-8e1c-5891efeab311",
        "colab": {
          "base_uri": "https://localhost:8080/",
          "height": 54
        }
      },
      "source": [
        "import lexnlp.extract.en.citations\n",
        "print(list(lexnlp.extract.en.citations.get_citations(all_text)))"
      ],
      "execution_count": 95,
      "outputs": [
        {
          "output_type": "stream",
          "text": [
            "[(5, 'Ala.', 'Alabama Reports', 740, None, None, None), (5, 'Ala.', 'Alabama Reports', 740, '1843', None, None), (55, 'Ala.', 'Alabama Reports', 266, '271', None, None), (47, 'Ala.', 'Alabama Reports', 362, '376', None, None), (45, 'Ala.', 'Alabama Reports', 329, '334', None, None), (31, 'Ala.', 'Alabama Reports', 526, '527', None, None), (21, 'Ala.', 'Alabama Reports', 333, '335', None, None), (8, 'Cal.', 'California Reports', 145, '147', None, None), (65, 'Ala.', 'Alabama Reports', 256, '258', None, None), (4, 'S.W.', 'South Western Reporter', 913, '914', None, None), (103, 'A.L.R.', 'American Law Reports', 464, None, None, None), (9, 'Cow.', \"Cowen's Reports\", 39, None, None, None), (5, 'Port.', 'Alabama Reports, Porter', 182, None, None, None), (9, 'Johns.', \"Johnson's Reports\", 108, None, None, None)]\n"
          ],
          "name": "stdout"
        }
      ]
    },
    {
      "cell_type": "code",
      "metadata": {
        "id": "YYbtPG88eN4p",
        "outputId": "2d0585ca-c359-4ee0-b9b3-0de47ba6ce04",
        "colab": {
          "base_uri": "https://localhost:8080/",
          "height": 34
        }
      },
      "source": [
        "import lexnlp.extract.en.entities.nltk_re\n",
        "print(list(lexnlp.extract.en.entities.nltk_re.get_companies(all_text)))"
      ],
      "execution_count": 96,
      "outputs": [
        {
          "output_type": "stream",
          "text": [
            "[Lehman, Durr Co, (17983, 18001)]\n"
          ],
          "name": "stdout"
        }
      ]
    },
    {
      "cell_type": "code",
      "metadata": {
        "id": "993i5be_eN7X",
        "outputId": "cfd303dc-04f6-4857-a515-b11ae7abb6ce",
        "colab": {
          "base_uri": "https://localhost:8080/",
          "height": 54
        }
      },
      "source": [
        "import lexnlp.extract.en.conditions\n",
        "print(list(lexnlp.extract.en.conditions.get_conditions(all_text)))"
      ],
      "execution_count": 97,
      "outputs": [
        {
          "output_type": "stream",
          "text": [
            "[('until', '[2]\\nCreditors’ Remedies\\nLien and Priority\\nUnder St.1821, prohibiting a levy on a crop', ''), ('until', 'on a growing crop, nor does such lien attach', ''), ('if', 'It was proved by the claimants, by the production of a written contract, that Harrison, on the twenty-second of May, 1840, in consideration that the claimants were involved, as indorsers for Burton & Harrison of Sumter county, and were then exposed to an execution, amounting to upwards of fourteen thousand dollars, bargained and sold to the claimants all his growing crop of cotton &c., consisting of one hundred and twenty acres, &c. Allen Harrison promised and obliged himself to give up his crop to the use of the claimants at any time to save them from suffering as his indorsers;', ''), ('when', 'The claimants came from Tennessee, (where they resided) about the first of September, 1840, bringing with them three or four white laborers, and took possession of the crop and slaves, and with the latter, and white laborers, gathered the cotton, prepared it for market, and', ''), ('if', 'The court charged the jury, that the plaintiff had no lien by virtue of his judgment, and execution on the growing crop; that Harrison had a right to convey it, without being in any manner restrained by them; that the writing adduced, was a sale of the crop, but', ''), ('when', 'it was not, and the lien of the fieri facias would have attached upon it,', ''), ('if', 'gathered, yet', ''), ('not subject to', 'the claimants obtained possession on the first of September, and controlled the gathering of the crop, then no lien attached, and it was', ''), ('until', 'Rep, 693;] and', ''), ('until', '167,] which declares it to be lawful to levy an execution on a planted crop,', ''), ('if', 'It is admitted that the contract between the defendant in execution, and the claimants, was in good faith,', ''), ('when', 'The defendant in execution might at any time have divested the interest which the contract vested in the claimants, by discharging their liability as his indorsers, or a judgment creditor might have satisfied the lien, and', ''), ('unless', 'We will then consider the writing under which the claimants assert a right, as a mortgage with a power to take possession any time during the year,', ''), ('if', 'Conceding the truth of the facts stated in the bill of exceptions, and we think it will not follow, that the possession of the claimants is a nullity, and that the case must be considered as', ''), ('if', 'The contract contains an express undertaking to give up the crop at any time the claimants might require it for their indemnity, and', ''), ('if', 'they took possession of it in the absence of the grantor, (though without his consent,)', ''), ('if', 'he subsequently acquiesced in it, the inference would be,', ''), ('subject to', 'Mr. Dane, in remarking upon this point, says, “The American editor of Bacon’s Abridgment, says, ‘Wheat growing in the ground is a chattel, and', ''), ('until', 'The first section of the act of 1821, “To prevent sheriffs and other officers from levying executions in certain cases, enacts, that “It shall not be lawful for any sheriff or other officer, to levy a writ of fieri facias or other execution on the planted crop of a debtor, or person against whom an execution may issue,', ''), ('until', 'Now here is an express inhibition to levy an execution on a crop while it remains on, or in the ground, and', ''), ('until', 'If so, the act cited, will only have the effect of keeping the right to levy it in abeyance', ''), ('if', 'The lien and the right to levy are intimately connected, and', ''), ('until', 'That it was competent for the legislature to have made it unlawful to levy an execution on particular property,', ''), ('until', 'If the object was merely to suspend the sale,', ''), ('as soon as', 'The idea that the lien attached upon the planted crop', ''), ('until', 'the execution was delivered to the sheriff, though the right to levy it was postponed', ''), ('if', 'They do not refer to the lien,', ''), ('until', 'they did they would postpone it', ''), ('until', 'the crop was gathered; but it is the levy they relate to and postpone', ''), ('until', '**4 The right to levy an execution on a planted crop, then, being expressly taken away by the statute, the lien which is connected with and consequent upon that right, never attaches', ''), ('if', 'The circuit judge may have mistaken the law in supposing that the contract was a sale, but', ''), ('when', 'There is no assumption of any material fact in the charge; but the possession of the claimant, the time', ''), ('if', 'acquired, the gathering of the crop, &c., are all referred to the determination of the jury; who are instructed,', ''), ('until', '**4 The statute which presents the question before the court is, that “it shall not be lawful for any sheriff or other officer to levy a writ of fieei facias or other execution, on the planted crop of a debtor, or person against whom an execution may issue,', ''), ('subject to', 'The policy of the State, as indicated by these statutes, is undeniably that all the property of a debtor, real and personal, to which he has a legal title, shall be', ''), ('until', 'The mischief which the statute designed to remedy was, the sacrifice which would be necessarily made by the sale of an immature crop: the statute enables the debtor to retain it', ''), ('if', '**5', ''), ('until', 'The sheriff is forbidden to levy on a “planted crop”', ''), ('if', 'Now,', ''), ('until', 'This, I feel a thorough conviction, was not the intention of the legislature; but that it was to secure him from loss, by prohibiting a levy and sale of the crop,', ''), ('when', 'it was gathered,', ''), ('subject to', 'Growing crops as', ''), ('subject to', '464\\nGenerally, at common law, growing crops raised by annual planting, while still attached to the soil, are regarded as personal chattels,', ''), ('where', 'And', '')]\n"
          ],
          "name": "stdout"
        }
      ]
    },
    {
      "cell_type": "code",
      "metadata": {
        "id": "XUwHqwMseN-k",
        "outputId": "7013628d-d838-4e91-a97f-d40d1034d14e",
        "colab": {
          "base_uri": "https://localhost:8080/",
          "height": 54
        }
      },
      "source": [
        "import lexnlp.extract.en.constraints\n",
        "print(list(lexnlp.extract.en.constraints.get_constraints(all_text)))"
      ],
      "execution_count": 98,
      "outputs": [
        {
          "output_type": "stream",
          "text": [
            "[('after', 'on a growing crop, nor does such lien attach until', ''), ('after', '', ' and that alias and pluries fieri facias’, issued regularly up to the time levy was made; that the cotton levied on was growed on the plantation of harrison, and cultivated by the hands in his service.'), ('first of', 'the claimants came from tennessee, (where they resided) about the', ''), ('first of', 'the court charged the jury, that the plaintiff had no lien by virtue of his judgment, and execution on the growing crop; that harrison had a right to convey it, without being in any manner restrained by them; that the writing adduced, was a sale of the crop, but if it was not, and the lien of the fieri facias would have attached upon it, when gathered, yet if the claimants obtained possession on the', ''), ('after', 'it merely inhibits the levy, but the lien attaches, and a levy and sale may be made', ''), ('more than', 'taking this to be clear *744 law, and it will be seen, that the defendant in execution at the time of the levy had nothing', ''), ('before', 'it has been frequently mooted whether, at common law, corn, &c.,', ''), ('before', '**4 the statute which presents the question', ''), ('after', 'now, if the view taken by the majority of the court, is correct, the right secured to the plaintiff in execution, of levying on the crop', ''), ('before', 'tried', ''), ('before', 'tried', ''), ('before', 'tried', ''), ('before', 'tried', ''), ('before', 'tried', ''), ('before', 'tried', '')]\n"
          ],
          "name": "stdout"
        }
      ]
    },
    {
      "cell_type": "code",
      "metadata": {
        "id": "uVvs9r17eOBG",
        "outputId": "85d8ba15-9a7e-489a-ef18-cdfddeee78cf",
        "colab": {
          "base_uri": "https://localhost:8080/",
          "height": 34
        }
      },
      "source": [
        "import lexnlp.extract.en.copyright\n",
        "print(list(lexnlp.extract.en.copyright.get_copyright(all_text)))"
      ],
      "execution_count": 99,
      "outputs": [
        {
          "output_type": "stream",
          "text": [
            "[('©', '2019', 'Thomson Reuters. No')]\n"
          ],
          "name": "stdout"
        }
      ]
    },
    {
      "cell_type": "code",
      "metadata": {
        "id": "mbrvYGQKeOER",
        "outputId": "17aba75e-5785-4ce3-cab2-b0eef0992c53",
        "colab": {
          "base_uri": "https://localhost:8080/",
          "height": 34
        }
      },
      "source": [
        "import lexnlp.extract.en.courts\n",
        "court_config_data = []\n",
        "print(list(lexnlp.extract.en.courts.get_courts(all_text,court_config_data)))"
      ],
      "execution_count": 100,
      "outputs": [
        {
          "output_type": "stream",
          "text": [
            "[]\n"
          ],
          "name": "stdout"
        }
      ]
    },
    {
      "cell_type": "code",
      "metadata": {
        "id": "7XaEA_qXeOHk",
        "outputId": "b4205b80-c438-4134-a624-b94b1fb391d0",
        "colab": {
          "base_uri": "https://localhost:8080/",
          "height": 34
        }
      },
      "source": [
        "import lexnlp.extract.en.cusip\n",
        "print(lexnlp.extract.en.cusip.get_cusip(all_text))"
      ],
      "execution_count": 101,
      "outputs": [
        {
          "output_type": "stream",
          "text": [
            "<generator object get_cusip at 0x7f09a8f5b7d8>\n"
          ],
          "name": "stdout"
        }
      ]
    },
    {
      "cell_type": "code",
      "metadata": {
        "id": "CoyskBZlekKz",
        "outputId": "b91ab64e-1f48-4da8-eef9-b3e4a26f3be9",
        "colab": {
          "base_uri": "https://localhost:8080/",
          "height": 156
        }
      },
      "source": [
        "import lexnlp.extract.en.dates\n",
        "print(list(lexnlp.extract.en.dates.get_dates(all_text)))"
      ],
      "execution_count": 102,
      "outputs": [
        {
          "output_type": "stream",
          "text": [
            "/usr/local/lib/python3.6/dist-packages/sklearn/base.py:318: UserWarning: Trying to unpickle estimator SelectKBest from version 0.23.1 when using version 0.22.2.post1. This might lead to breaking code or invalid results. Use at your own risk.\n",
            "  state = self.__dict__.copy()\n",
            "/usr/local/lib/python3.6/dist-packages/sklearn/base.py:318: UserWarning: Trying to unpickle estimator LogisticRegressionCV from version 0.23.1 when using version 0.22.2.post1. This might lead to breaking code or invalid results. Use at your own risk.\n",
            "  state = self.__dict__.copy()\n",
            "/usr/local/lib/python3.6/dist-packages/sklearn/base.py:318: UserWarning: Trying to unpickle estimator Pipeline from version 0.23.1 when using version 0.22.2.post1. This might lead to breaking code or invalid results. Use at your own risk.\n",
            "  state = self.__dict__.copy()\n"
          ],
          "name": "stderr"
        },
        {
          "output_type": "stream",
          "text": [
            "[datetime.date(2020, 6, 1), datetime.date(1840, 11, 1), datetime.date(1839, 10, 1), datetime.date(1840, 9, 1), datetime.date(1840, 5, 1), datetime.date(1840, 5, 1), datetime.date(2020, 12, 1), datetime.date(2020, 12, 1), datetime.date(2020, 1, 1), datetime.date(2020, 1, 1), datetime.date(2020, 1, 1), datetime.date(2020, 3, 21), datetime.date(2020, 6, 1), datetime.date(2020, 7, 1), datetime.date(2020, 11, 1)]\n"
          ],
          "name": "stdout"
        }
      ]
    },
    {
      "cell_type": "code",
      "metadata": {
        "id": "YBSo5RaxekNj",
        "outputId": "7f66f57b-81c4-4dc6-b0a1-9bd825d0a542",
        "colab": {
          "base_uri": "https://localhost:8080/",
          "height": 34
        }
      },
      "source": [
        "import lexnlp.extract.en.definitions\n",
        "print(list(lexnlp.extract.en.definitions.get_definitions(all_text)))"
      ],
      "execution_count": 103,
      "outputs": [
        {
          "output_type": "stream",
          "text": [
            "[]\n"
          ],
          "name": "stdout"
        }
      ]
    },
    {
      "cell_type": "code",
      "metadata": {
        "id": "7z4J3wfgekRC",
        "outputId": "ba807aa5-e29f-4c70-efd7-a399d87ed888",
        "colab": {
          "base_uri": "https://localhost:8080/",
          "height": 34
        }
      },
      "source": [
        "import lexnlp.extract.en.distances\n",
        "print(list(lexnlp.extract.en.distances.get_distances(all_text)))"
      ],
      "execution_count": 104,
      "outputs": [
        {
          "output_type": "stream",
          "text": [
            "[]\n"
          ],
          "name": "stdout"
        }
      ]
    },
    {
      "cell_type": "code",
      "metadata": {
        "id": "YHl132gPetuQ",
        "outputId": "519e6022-0a5f-456c-fb11-7be4c7445c28",
        "colab": {
          "base_uri": "https://localhost:8080/",
          "height": 34
        }
      },
      "source": [
        "import lexnlp.extract.en.durations\n",
        "print(list(lexnlp.extract.en.durations.get_durations(all_text)))"
      ],
      "execution_count": 105,
      "outputs": [
        {
          "output_type": "stream",
          "text": [
            "[('second', 20.0, 0.00023148148148148146), ('year', 6.0, 2190.0)]\n"
          ],
          "name": "stdout"
        }
      ]
    },
    {
      "cell_type": "code",
      "metadata": {
        "id": "fW6tYPkgetxh",
        "outputId": "b492a8b7-0dc0-43ec-9c9b-f2c0572ca751",
        "colab": {
          "base_uri": "https://localhost:8080/",
          "height": 34
        }
      },
      "source": [
        "import lexnlp.extract.en.geoentities\n",
        "geo_config_list = []\n",
        "list(lexnlp.extract.en.geoentities.get_geoentities(all_text,geo_config_list))"
      ],
      "execution_count": 106,
      "outputs": [
        {
          "output_type": "execute_result",
          "data": {
            "text/plain": [
              "[]"
            ]
          },
          "metadata": {
            "tags": []
          },
          "execution_count": 106
        }
      ]
    },
    {
      "cell_type": "code",
      "metadata": {
        "id": "8k7c-p_Pet1a",
        "outputId": "5075c2b1-bf41-4070-b249-9212b6d2fce6",
        "colab": {
          "base_uri": "https://localhost:8080/",
          "height": 34
        }
      },
      "source": [
        "import lexnlp.extract.en.money\n",
        "print(list(lexnlp.extract.en.money.get_money(all_text)))"
      ],
      "execution_count": 107,
      "outputs": [
        {
          "output_type": "stream",
          "text": [
            "[(100.0, 'USD'), (14000, 'USD'), (14000, 'USD')]\n"
          ],
          "name": "stdout"
        }
      ]
    },
    {
      "cell_type": "code",
      "metadata": {
        "id": "6fKkVJrHfIvb",
        "outputId": "1dc5332e-f9d4-4ea0-ddee-0837548de988",
        "colab": {
          "base_uri": "https://localhost:8080/",
          "height": 34
        }
      },
      "source": [
        "import lexnlp.extract.en.percents\n",
        "print(list(lexnlp.extract.en.percents.get_percents(all_text)))"
      ],
      "execution_count": 108,
      "outputs": [
        {
          "output_type": "stream",
          "text": [
            "[]\n"
          ],
          "name": "stdout"
        }
      ]
    },
    {
      "cell_type": "code",
      "metadata": {
        "id": "OU5pokBFfIyY",
        "outputId": "d9778d14-ae74-481b-f502-4478f4ee6a47",
        "colab": {
          "base_uri": "https://localhost:8080/",
          "height": 34
        }
      },
      "source": [
        "import lexnlp.extract.en.pii\n",
        "print(list(lexnlp.extract.en.pii.get_pii(all_text)))"
      ],
      "execution_count": 109,
      "outputs": [
        {
          "output_type": "stream",
          "text": [
            "[]\n"
          ],
          "name": "stdout"
        }
      ]
    },
    {
      "cell_type": "code",
      "metadata": {
        "id": "mwW24-aWfI12",
        "outputId": "513bfb0a-f625-4b92-865d-cf45bf839df9",
        "colab": {
          "base_uri": "https://localhost:8080/",
          "height": 34
        }
      },
      "source": [
        "import lexnlp.extract.en.ratios\n",
        "print(list(lexnlp.extract.en.ratios.get_ratios(all_text)))"
      ],
      "execution_count": 110,
      "outputs": [
        {
          "output_type": "stream",
          "text": [
            "[]\n"
          ],
          "name": "stdout"
        }
      ]
    },
    {
      "cell_type": "code",
      "metadata": {
        "id": "ChNVgua-fI4p",
        "outputId": "3542ad22-3ae1-4137-e449-a271707b40cb",
        "colab": {
          "base_uri": "https://localhost:8080/",
          "height": 34
        }
      },
      "source": [
        "import lexnlp.extract.en.regulations\n",
        "print(list(lexnlp.extract.en.regulations.get_regulations(all_text)))"
      ],
      "execution_count": 111,
      "outputs": [
        {
          "output_type": "stream",
          "text": [
            "[]\n"
          ],
          "name": "stdout"
        }
      ]
    },
    {
      "cell_type": "code",
      "metadata": {
        "id": "t3MD2zfpfUNU",
        "outputId": "22037aa1-5381-4d78-868d-f0ad00f9bb69",
        "colab": {
          "base_uri": "https://localhost:8080/",
          "height": 34
        }
      },
      "source": [
        "import lexnlp.extract.en.trademarks\n",
        "print(list(lexnlp.extract.en.trademarks.get_trademarks(all_text)))"
      ],
      "execution_count": 112,
      "outputs": [
        {
          "output_type": "stream",
          "text": [
            "[]\n"
          ],
          "name": "stdout"
        }
      ]
    },
    {
      "cell_type": "code",
      "metadata": {
        "id": "Yb4GEmOefUQQ",
        "outputId": "269b1997-6dbc-478e-d9e0-7a5ad116547f",
        "colab": {
          "base_uri": "https://localhost:8080/",
          "height": 34
        }
      },
      "source": [
        "import lexnlp.extract.en.urls\n",
        "print(list(lexnlp.extract.en.urls.get_urls(all_text)))"
      ],
      "execution_count": 113,
      "outputs": [
        {
          "output_type": "stream",
          "text": [
            "[]\n"
          ],
          "name": "stdout"
        }
      ]
    },
    {
      "cell_type": "code",
      "metadata": {
        "id": "sXsEhci2oI29",
        "outputId": "fe46bbcc-b705-4607-f5c1-99c31a9ae858",
        "colab": {
          "base_uri": "https://localhost:8080/",
          "height": 632
        }
      },
      "source": [
        "!pip install Stanford NLP"
      ],
      "execution_count": 136,
      "outputs": [
        {
          "output_type": "stream",
          "text": [
            "Collecting Stanford\n",
            "  Downloading https://files.pythonhosted.org/packages/62/43/9d8e36a33706fe3bb2e0653a5f367e8525a67418e50962ffe8bcf42b4df6/stanford-0.0.0-py3-none-any.whl\n",
            "Collecting NLP\n",
            "\u001b[?25l  Downloading https://files.pythonhosted.org/packages/09/e3/bcdc59f3434b224040c1047769c47b82705feca2b89ebbc28311e3764782/nlp-0.4.0-py3-none-any.whl (1.7MB)\n",
            "\u001b[K     |████████████████████████████████| 1.7MB 4.8MB/s \n",
            "\u001b[?25hRequirement already satisfied: tqdm>=4.27 in /usr/local/lib/python3.6/dist-packages (from NLP) (4.41.1)\n",
            "Requirement already satisfied: numpy in /usr/local/lib/python3.6/dist-packages (from NLP) (1.19.1)\n",
            "Requirement already satisfied: dataclasses; python_version < \"3.7\" in /usr/local/lib/python3.6/dist-packages (from NLP) (0.7)\n",
            "Requirement already satisfied: dill in /usr/local/lib/python3.6/dist-packages (from NLP) (0.3.2)\n",
            "Collecting pyarrow>=0.16.0\n",
            "\u001b[?25l  Downloading https://files.pythonhosted.org/packages/f3/99/0a605f016121ca314d1469dc9069e4978395bc46fda40f73099d90ad3ba4/pyarrow-1.0.1-cp36-cp36m-manylinux2014_x86_64.whl (17.3MB)\n",
            "\u001b[K     |████████████████████████████████| 17.3MB 221kB/s \n",
            "\u001b[?25hRequirement already satisfied: pandas in /usr/local/lib/python3.6/dist-packages (from NLP) (0.24.2)\n",
            "Requirement already satisfied: requests>=2.19.0 in /usr/local/lib/python3.6/dist-packages (from NLP) (2.24.0)\n",
            "Requirement already satisfied: filelock in /usr/local/lib/python3.6/dist-packages (from NLP) (3.0.12)\n",
            "Collecting xxhash\n",
            "\u001b[?25l  Downloading https://files.pythonhosted.org/packages/f7/73/826b19f3594756cb1c6c23d2fbd8ca6a77a9cd3b650c9dec5acc85004c38/xxhash-2.0.0-cp36-cp36m-manylinux2010_x86_64.whl (242kB)\n",
            "\u001b[K     |████████████████████████████████| 245kB 42.7MB/s \n",
            "\u001b[?25hRequirement already satisfied: python-dateutil>=2.5.0 in /usr/local/lib/python3.6/dist-packages (from pandas->NLP) (2.8.1)\n",
            "Requirement already satisfied: pytz>=2011k in /usr/local/lib/python3.6/dist-packages (from pandas->NLP) (2018.9)\n",
            "Requirement already satisfied: certifi>=2017.4.17 in /usr/local/lib/python3.6/dist-packages (from requests>=2.19.0->NLP) (2020.6.20)\n",
            "Requirement already satisfied: urllib3!=1.25.0,!=1.25.1,<1.26,>=1.21.1 in /usr/local/lib/python3.6/dist-packages (from requests>=2.19.0->NLP) (1.24.3)\n",
            "Requirement already satisfied: chardet<4,>=3.0.2 in /usr/local/lib/python3.6/dist-packages (from requests>=2.19.0->NLP) (3.0.4)\n",
            "Requirement already satisfied: idna<3,>=2.5 in /usr/local/lib/python3.6/dist-packages (from requests>=2.19.0->NLP) (2.10)\n",
            "Requirement already satisfied: six>=1.5 in /usr/local/lib/python3.6/dist-packages (from python-dateutil>=2.5.0->pandas->NLP) (1.15.0)\n",
            "Installing collected packages: Stanford, pyarrow, xxhash, NLP\n",
            "  Found existing installation: pyarrow 0.14.1\n",
            "    Uninstalling pyarrow-0.14.1:\n",
            "      Successfully uninstalled pyarrow-0.14.1\n",
            "Successfully installed NLP-0.4.0 Stanford-0.0.0 pyarrow-1.0.1 xxhash-2.0.0\n"
          ],
          "name": "stdout"
        },
        {
          "output_type": "display_data",
          "data": {
            "application/vnd.colab-display-data+json": {
              "pip_warning": {
                "packages": [
                  "pyarrow"
                ]
              }
            }
          },
          "metadata": {
            "tags": []
          }
        }
      ]
    },
    {
      "cell_type": "code",
      "metadata": {
        "id": "Xuz9OTp5pST_"
      },
      "source": [
        "from nltk.tag import StanfordNERTagger"
      ],
      "execution_count": 138,
      "outputs": []
    },
    {
      "cell_type": "code",
      "metadata": {
        "id": "vVs3PXQRpCal",
        "outputId": "e354375a-0f09-49ba-9a23-dbf1bdd830d7",
        "colab": {
          "base_uri": "https://localhost:8080/",
          "height": 316
        }
      },
      "source": [
        "import lexnlp.extract.en.persons\n",
        "print(list(lexnlp.extract.en.persons.get_persons(all_text)))"
      ],
      "execution_count": 139,
      "outputs": [
        {
          "output_type": "error",
          "ename": "ModuleNotFoundError",
          "evalue": "ignored",
          "traceback": [
            "\u001b[0;31m---------------------------------------------------------------------------\u001b[0m",
            "\u001b[0;31mModuleNotFoundError\u001b[0m                       Traceback (most recent call last)",
            "\u001b[0;32m<ipython-input-139-20f2a11dfb52>\u001b[0m in \u001b[0;36m<module>\u001b[0;34m()\u001b[0m\n\u001b[0;32m----> 1\u001b[0;31m \u001b[0;32mimport\u001b[0m \u001b[0mlexnlp\u001b[0m\u001b[0;34m.\u001b[0m\u001b[0mextract\u001b[0m\u001b[0;34m.\u001b[0m\u001b[0men\u001b[0m\u001b[0;34m.\u001b[0m\u001b[0mpersons\u001b[0m\u001b[0;34m\u001b[0m\u001b[0;34m\u001b[0m\u001b[0m\n\u001b[0m\u001b[1;32m      2\u001b[0m \u001b[0mprint\u001b[0m\u001b[0;34m(\u001b[0m\u001b[0mlist\u001b[0m\u001b[0;34m(\u001b[0m\u001b[0mlexnlp\u001b[0m\u001b[0;34m.\u001b[0m\u001b[0mextract\u001b[0m\u001b[0;34m.\u001b[0m\u001b[0men\u001b[0m\u001b[0;34m.\u001b[0m\u001b[0mpersons\u001b[0m\u001b[0;34m.\u001b[0m\u001b[0mget_persons\u001b[0m\u001b[0;34m(\u001b[0m\u001b[0mall_text\u001b[0m\u001b[0;34m)\u001b[0m\u001b[0;34m)\u001b[0m\u001b[0;34m)\u001b[0m\u001b[0;34m\u001b[0m\u001b[0;34m\u001b[0m\u001b[0m\n",
            "\u001b[0;31mModuleNotFoundError\u001b[0m: No module named 'lexnlp.extract.en.persons'",
            "",
            "\u001b[0;31m---------------------------------------------------------------------------\u001b[0;32m\nNOTE: If your import is failing due to a missing package, you can\nmanually install dependencies using either !pip or !apt.\n\nTo view examples of installing some common dependencies, click the\n\"Open Examples\" button below.\n\u001b[0;31m---------------------------------------------------------------------------\u001b[0m\n"
          ]
        }
      ]
    }
  ]
}