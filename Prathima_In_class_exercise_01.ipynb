{
  "nbformat": 4,
  "nbformat_minor": 0,
  "metadata": {
    "colab": {
      "name": "Prathima_In_class_exercise_01.ipynb",
      "provenance": [],
      "collapsed_sections": [],
      "include_colab_link": true
    },
    "kernelspec": {
      "display_name": "Python 3",
      "language": "python",
      "name": "python3"
    },
    "language_info": {
      "codemirror_mode": {
        "name": "ipython",
        "version": 3
      },
      "file_extension": ".py",
      "mimetype": "text/x-python",
      "name": "python",
      "nbconvert_exporter": "python",
      "pygments_lexer": "ipython3",
      "version": "3.7.4"
    }
  },
  "cells": [
    {
      "cell_type": "markdown",
      "metadata": {
        "id": "view-in-github",
        "colab_type": "text"
      },
      "source": [
        "<a href=\"https://colab.research.google.com/github/pn0159/prathima_INFO5731_Fall2020/blob/master/Prathima_In_class_exercise_01.ipynb\" target=\"_parent\"><img src=\"https://colab.research.google.com/assets/colab-badge.svg\" alt=\"Open In Colab\"/></a>"
      ]
    },
    {
      "cell_type": "markdown",
      "metadata": {
        "colab_type": "text",
        "id": "DymRJbxDBCnf"
      },
      "source": [
        "# **The first In-class-exercise (9/2/2020, 20 points in total)**"
      ]
    },
    {
      "cell_type": "markdown",
      "metadata": {
        "colab_type": "text",
        "id": "03jb4GZsBkBS"
      },
      "source": [
        "(1) Write a Python program to calculate the length of a string. (2 points)"
      ]
    },
    {
      "cell_type": "code",
      "metadata": {
        "colab_type": "code",
        "id": "YaGLbSHHB8Ej",
        "colab": {
          "base_uri": "https://localhost:8080/",
          "height": 51
        },
        "outputId": "3b42982d-da20-457a-94a8-6bac4027aa11"
      },
      "source": [
        "#I can calculate length of the string by using 'len' function\n",
        "my_string =\"Prathima\"\n",
        "y=len(my_string)\n",
        "print(\"The length of the string:\",y)\n",
        "\n",
        "# Calculating the length of string using for loop\n",
        "def length_of_string(mystring):\n",
        "  counter=0\n",
        "  for i in mystring:\n",
        "    counter+=1\n",
        "  return counter\n",
        "mystring=\"Prathima\"\n",
        "a= length_of_string(mystring)\n",
        "print(\"The length of the string:\",a)\n"
      ],
      "execution_count": null,
      "outputs": [
        {
          "output_type": "stream",
          "text": [
            "The length of the string: 8\n",
            "The length of the string: 8\n"
          ],
          "name": "stdout"
        }
      ]
    },
    {
      "cell_type": "markdown",
      "metadata": {
        "colab_type": "text",
        "id": "jJDe71iLB616"
      },
      "source": [
        "(2) Write a Python program to count the number of characters in a string. (2 points)\n",
        "\n",
        "Sample String : 'google.com‘, \n",
        "\n",
        "Expected Result : {'o': 3, 'g': 2, '.': 1, 'e': 1, 'l': 1, 'm': 1, 'c': 1}"
      ]
    },
    {
      "cell_type": "code",
      "metadata": {
        "colab_type": "code",
        "id": "MtKskTzbCLaU",
        "colab": {
          "base_uri": "https://localhost:8080/",
          "height": 34
        },
        "outputId": "c8118845-c357-4f8f-e957-3d6f6858ae55"
      },
      "source": [
        "# I am using for loop to count the number of characters in a string\n",
        "# I am initializing the string\n",
        "\n",
        "sample_string=\"google.com\"\n",
        "char_count={}\n",
        "for i in sample_string:\n",
        "  if i in char_count:\n",
        "    char_count[i]+=1\n",
        "  else:\n",
        "    char_count[i]=1\n",
        "print(\"Count of the number of characters in a string:\" +str(char_count))\n"
      ],
      "execution_count": null,
      "outputs": [
        {
          "output_type": "stream",
          "text": [
            "Count of the number of characters in a string:{'g': 2, 'o': 3, 'l': 1, 'e': 1, '.': 1, 'c': 1, 'm': 1}\n"
          ],
          "name": "stdout"
        }
      ]
    },
    {
      "cell_type": "markdown",
      "metadata": {
        "colab_type": "text",
        "id": "55W9AMdXCSpV"
      },
      "source": [
        "(3) Write a Python program to sum all the items in a list. (2 points)"
      ]
    },
    {
      "cell_type": "code",
      "metadata": {
        "colab_type": "code",
        "id": "I57NXsauCec2",
        "colab": {
          "base_uri": "https://localhost:8080/",
          "height": 51
        },
        "outputId": "36d8e6cd-4668-4305-f768-546e60ad5836"
      },
      "source": [
        "# I am using 'sum' function to add all items in the list\n",
        "my_list=[1,2,3,4,5,6]\n",
        "y=sum(my_list)\n",
        "print(\"The sum of items in a list:\",y)\n",
        "\n",
        "# I am also using for to sum a list\n",
        "def list(items):\n",
        "  num=0\n",
        "  for y in items:\n",
        "    num+=y\n",
        "  return num\n",
        "z=list([1,2,3,4,5,6])\n",
        "print(\"The sum of items in a list:\",z)"
      ],
      "execution_count": null,
      "outputs": [
        {
          "output_type": "stream",
          "text": [
            "The sum of items in a list: 21\n",
            "The sum of items in a list: 21\n"
          ],
          "name": "stdout"
        }
      ]
    },
    {
      "cell_type": "markdown",
      "metadata": {
        "colab_type": "text",
        "id": "4ulBZ6yhCi9F"
      },
      "source": [
        "(4) Write a Python program to get a string from a given string where all occurrences of its first char have been changed to '\\$', except the first char itself. (2 points)\n",
        "\n",
        "Sample String : 'restart‘, \n",
        "\n",
        "Expected Result : 'resta\\$t'"
      ]
    },
    {
      "cell_type": "code",
      "metadata": {
        "colab_type": "code",
        "id": "Fj0XhwbBCw2o",
        "colab": {
          "base_uri": "https://localhost:8080/",
          "height": 34
        },
        "outputId": "a9edd203-38da-4d3e-deb3-c80f0e6140f4"
      },
      "source": [
        "# I am using replace function \n",
        "def my_char(my_string):\n",
        "  char= my_string[0]\n",
        "  my_string1=my_string.replace(char,'$')\n",
        "  my_string1=char+ my_string1[1:]\n",
        "  return my_string1\n",
        "z=my_char('restart')\n",
        "print(\"Final result:\",z)\n"
      ],
      "execution_count": null,
      "outputs": [
        {
          "output_type": "stream",
          "text": [
            "Final result: resta$t\n"
          ],
          "name": "stdout"
        }
      ]
    },
    {
      "cell_type": "markdown",
      "metadata": {
        "colab_type": "text",
        "id": "_bIP7s1MCzue"
      },
      "source": [
        "(5) Write a program with python which could accept two parameter a and b to calculate and output the result of S, where \n",
        "\n",
        "$\\ S=3.14*(1+a/b)^3$ (3 points)\n",
        "\n"
      ]
    },
    {
      "cell_type": "code",
      "metadata": {
        "colab_type": "code",
        "id": "w79QilHXD3Mg",
        "colab": {
          "base_uri": "https://localhost:8080/",
          "height": 68
        },
        "outputId": "d019b9b6-b616-43df-b29a-c3a487726bdd"
      },
      "source": [
        "z=input(\"Enter the value for a\")\n",
        "m=input(\"Enter the value of b\")\n",
        "S= 3.14*(1+a/b)**3\n",
        "print(\"The output result for S:\",S)\n"
      ],
      "execution_count": null,
      "outputs": [
        {
          "output_type": "stream",
          "text": [
            "Enter the value for a3\n",
            "Enter the value of b4\n",
            "The output result for S: 39.88962962962962\n"
          ],
          "name": "stdout"
        }
      ]
    },
    {
      "cell_type": "markdown",
      "metadata": {
        "colab_type": "text",
        "id": "xCa2bK9aD4Q3"
      },
      "source": [
        "(6) Write a Python program to concatenate following dictionaries to create a new one. (3 points)\n",
        "\n",
        "Sample Dictionary : dic1={1:10, 2:20}, dic2={3:30, 4:40}, dic3={5:50,6:60}, \n",
        "\n",
        "Expected Result : {1: 10, 2: 20, 3: 30, 4: 40, 5: 50, 6: 60}\n"
      ]
    },
    {
      "cell_type": "code",
      "metadata": {
        "colab_type": "code",
        "id": "_z4aLqAbEET1",
        "colab": {
          "base_uri": "https://localhost:8080/",
          "height": 34
        },
        "outputId": "27836b41-fe5f-4d59-a88e-f6e6812feb41"
      },
      "source": [
        "# Initially i will define all dictionaries and then update all these into new one\n",
        "dic1={1:10,2:20}\n",
        "dic2={3:30,4:40}\n",
        "dic3={5:50,6:60}\n",
        "dic4={}\n",
        "for dictionary in (dic1,dic2,dic3):\n",
        "  dic4.update(dictionary)\n",
        "print(\"The concatenated dictionary result:\", dic4)\n",
        "\n"
      ],
      "execution_count": null,
      "outputs": [
        {
          "output_type": "stream",
          "text": [
            "The concatenated dictionary result: {1: 10, 2: 20, 3: 30, 4: 40, 5: 50, 6: 60}\n"
          ],
          "name": "stdout"
        }
      ]
    },
    {
      "cell_type": "markdown",
      "metadata": {
        "colab_type": "text",
        "id": "0v48Vqa7FrQh"
      },
      "source": [
        "(7) Write a Python program to check whether an element exists within a tuple. (3 points)"
      ]
    },
    {
      "cell_type": "code",
      "metadata": {
        "colab_type": "code",
        "id": "7WEmgq-DF2P1",
        "colab": {
          "base_uri": "https://localhost:8080/",
          "height": 51
        },
        "outputId": "dac06bb4-7471-4165-fff7-3587f63e7c31"
      },
      "source": [
        "# By using if statement\n",
        "my_tuple = (\"Prathima\", \"Chowdary\", \"Nuthalapati\")\n",
        "if \"Prathima\" in my_tuple:\n",
        "  print(\"Yes, 'Prathima' is in the tuple list\")\n",
        "else:\n",
        "  print(\"Prathima is not in the tuple list\")\n",
        "\n",
        "# Other way is by simply initializing tuple and using in to find if it exists\n",
        "my_tuple= (\"Prathima\", \"Chowdary\", \"Nuthalapati\")\n",
        "print(\"Prathima\" in my_tuple)\n",
        "\n"
      ],
      "execution_count": null,
      "outputs": [
        {
          "output_type": "stream",
          "text": [
            "Yes, 'Prathima' is in the tuple list\n",
            "True\n"
          ],
          "name": "stdout"
        }
      ]
    },
    {
      "cell_type": "markdown",
      "metadata": {
        "colab_type": "text",
        "id": "vD5PYLMuGga_"
      },
      "source": [
        "(8) Write a Python program to find maximum and the minimum value in a set. (3 points)"
      ]
    },
    {
      "cell_type": "code",
      "metadata": {
        "colab_type": "code",
        "id": "t0D5kdJUGjjw",
        "colab": {
          "base_uri": "https://localhost:8080/",
          "height": 51
        },
        "outputId": "17ba3576-7443-4007-9e35-1e3f08777ad9"
      },
      "source": [
        "# Initializing set\n",
        "my_set=set([15,16,17,18,19,20])\n",
        "a=max(my_set)\n",
        "b=min(my_set)\n",
        "print(\"The maximum value in a set is:\",a)\n",
        "print(\"The minimum value in a set is:\",b)\n",
        "\n",
        "\n"
      ],
      "execution_count": null,
      "outputs": [
        {
          "output_type": "stream",
          "text": [
            "The maximum value in a set is: 20\n",
            "The minimum value in a set is: 15\n"
          ],
          "name": "stdout"
        }
      ]
    },
    {
      "cell_type": "markdown",
      "metadata": {
        "colab_type": "text",
        "id": "uHkd-y5VhVWC"
      },
      "source": [
        "(9) Write a Python program to randomly divide the students in this class into five groups for term projects, each group should have at least 3 students but no more than 5 students (including 5). Here is the students list: (3 points for extra)\n",
        "\n",
        "studnet_list = ['vmb0067','pc0353','snd0097','yye0005','sg0940','bk0301','rak0120','rrk0058','spk0057','vl0135','nm0547','pn0159',\n",
        "                'msp0174','dd0420','ds0761','rs0850','ss1995','at0739','at0768','mv0299','tv0119','dy0091']"
      ]
    },
    {
      "cell_type": "code",
      "metadata": {
        "colab_type": "code",
        "id": "3iGbmcOBhTwy",
        "colab": {
          "base_uri": "https://localhost:8080/",
          "height": 34
        },
        "outputId": "7d7a7869-99e2-48c3-b258-b668df2c4a2c"
      },
      "source": [
        "import random\n",
        "studnet_list = ['vmb0067','pc0353','snd0097','yye0005','sg0940','bk0301','rak0120','rrk0058','spk0057','vl0135','nm0547','pn0159', 'msp0174','dd0420','ds0761','rs0850','ss1995','at0739','at0768','mv0299','tv0119','dy0091']\n",
        "final= random.choice(studnet_list)\n",
        "print(final)\n",
        "\n",
        "#try code\n",
        "import random\n",
        "studnet_list = ['vmb0067','pc0353','snd0097','yye0005','sg0940','bk0301','rak0120','rrk0058','spk0057','vl0135','nm0547','pn0159', 'msp0174','dd0420','ds0761','rs0850','ss1995','at0739','at0768','mv0299','tv0119','dy0091']\n",
        "cases = []\n",
        "group = int(len(studnet_list)/5)\n",
        "\n",
        "\n",
        "while count < len(studnet_list):\n",
        "    for num in range(0,group):\n",
        "        print(\"Group {my_group}\".format(my_group = num +1))\n",
        "\n",
        "        for i in range(count,count+5):\n",
        "            print(\"Studnet : \",studnet_list[i+0])\n"
      ],
      "execution_count": null,
      "outputs": [
        {
          "output_type": "stream",
          "text": [
            "tv0119\n"
          ],
          "name": "stdout"
        }
      ]
    }
  ]
}