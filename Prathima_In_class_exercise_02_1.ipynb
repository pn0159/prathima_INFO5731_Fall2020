{
  "nbformat": 4,
  "nbformat_minor": 0,
  "metadata": {
    "colab": {
      "name": "Prathima_In_class_exercise_02_1.ipynb",
      "provenance": [],
      "collapsed_sections": [],
      "include_colab_link": true
    },
    "kernelspec": {
      "display_name": "Python 3",
      "language": "python",
      "name": "python3"
    },
    "language_info": {
      "codemirror_mode": {
        "name": "ipython",
        "version": 3
      },
      "file_extension": ".py",
      "mimetype": "text/x-python",
      "name": "python",
      "nbconvert_exporter": "python",
      "pygments_lexer": "ipython3",
      "version": "3.7.4"
    }
  },
  "cells": [
    {
      "cell_type": "markdown",
      "metadata": {
        "id": "view-in-github",
        "colab_type": "text"
      },
      "source": [
        "<a href=\"https://colab.research.google.com/github/pn0159/prathima_INFO5731_Fall2020/blob/master/Prathima_In_class_exercise_02_1.ipynb\" target=\"_parent\"><img src=\"https://colab.research.google.com/assets/colab-badge.svg\" alt=\"Open In Colab\"/></a>"
      ]
    },
    {
      "cell_type": "markdown",
      "metadata": {
        "colab_type": "text",
        "id": "oo5bsEh2eeWi"
      },
      "source": [
        "# **The second In-class-exercise (9/9/2020, 20 points in total)**\n"
      ]
    },
    {
      "cell_type": "markdown",
      "metadata": {
        "colab_type": "text",
        "id": "2sPQ58dIeqgp"
      },
      "source": [
        "(1) Write a Python program to find the duplicate elements in a given array of integers. Return -1 If there are no such elements. (4 points)"
      ]
    },
    {
      "cell_type": "code",
      "metadata": {
        "colab_type": "code",
        "id": "mnrvKMFTeoJR",
        "colab": {
          "base_uri": "https://localhost:8080/",
          "height": 51
        },
        "outputId": "59f62588-bccc-43be-a18b-f04157d752ea"
      },
      "source": [
        "#Initializing a list\n",
        "my_list=[1,2,3,4,3,5,6]\n",
        "a=len(my_list)\n",
        "# defining 'set' to ensure no duplicate elements\n",
        "y=set(my_list)\n",
        "if (a!=len(y)):\n",
        "  print(list(y))\n",
        "else:\n",
        "  print(-1)\n",
        "\n",
        "#In other way without showing list of removed duplicate values we can just output if we have duplicate elements or not\n",
        "a_list = [1, 2, 3,4,1]\n",
        "a_set = set(a_list)\n",
        "contains_duplicates = len(a_list) != len(a_set)\n",
        "print(contains_duplicates)\n"
      ],
      "execution_count": null,
      "outputs": [
        {
          "output_type": "stream",
          "text": [
            "[1, 2, 3, 4, 5, 6]\n",
            "True\n"
          ],
          "name": "stdout"
        }
      ]
    },
    {
      "cell_type": "markdown",
      "metadata": {
        "colab_type": "text",
        "id": "YYrH6n6IhZoQ"
      },
      "source": [
        "(2) Write a Python program to select all the Sundays of a specified year. (4 points)\n",
        "\n"
      ]
    },
    {
      "cell_type": "code",
      "metadata": {
        "colab_type": "code",
        "id": "OSfPLd23eLpX",
        "colab": {
          "base_uri": "https://localhost:8080/",
          "height": 901
        },
        "outputId": "049983e3-4003-4dbe-c28d-bfe4da855f24"
      },
      "source": [
        "# I am using 'datetime' module and using date and timedelta to represent the date and duration\n",
        "#importing date and timedelta\n",
        "from datetime import date, timedelta\n",
        " \n",
        "# selecting year 2016\n",
        "year = 2016\n",
        "\n",
        "#defining format for date and listing sundays\n",
        "date_object = date(year, 1, 1)\n",
        "date_object += timedelta(days = 6 - date_object.weekday()) \n",
        " \n",
        "while date_object.year == year:\n",
        "    print(date_object)\n",
        "    date_object += timedelta(days=7)\n",
        "\n",
        "\n"
      ],
      "execution_count": null,
      "outputs": [
        {
          "output_type": "stream",
          "text": [
            "2016-01-03\n",
            "2016-01-10\n",
            "2016-01-17\n",
            "2016-01-24\n",
            "2016-01-31\n",
            "2016-02-07\n",
            "2016-02-14\n",
            "2016-02-21\n",
            "2016-02-28\n",
            "2016-03-06\n",
            "2016-03-13\n",
            "2016-03-20\n",
            "2016-03-27\n",
            "2016-04-03\n",
            "2016-04-10\n",
            "2016-04-17\n",
            "2016-04-24\n",
            "2016-05-01\n",
            "2016-05-08\n",
            "2016-05-15\n",
            "2016-05-22\n",
            "2016-05-29\n",
            "2016-06-05\n",
            "2016-06-12\n",
            "2016-06-19\n",
            "2016-06-26\n",
            "2016-07-03\n",
            "2016-07-10\n",
            "2016-07-17\n",
            "2016-07-24\n",
            "2016-07-31\n",
            "2016-08-07\n",
            "2016-08-14\n",
            "2016-08-21\n",
            "2016-08-28\n",
            "2016-09-04\n",
            "2016-09-11\n",
            "2016-09-18\n",
            "2016-09-25\n",
            "2016-10-02\n",
            "2016-10-09\n",
            "2016-10-16\n",
            "2016-10-23\n",
            "2016-10-30\n",
            "2016-11-06\n",
            "2016-11-13\n",
            "2016-11-20\n",
            "2016-11-27\n",
            "2016-12-04\n",
            "2016-12-11\n",
            "2016-12-18\n",
            "2016-12-25\n"
          ],
          "name": "stdout"
        }
      ]
    },
    {
      "cell_type": "markdown",
      "metadata": {
        "colab_type": "text",
        "id": "UIpziZ6Sjie-"
      },
      "source": [
        "(3) Python files reading and writing. Download the “[exercise_02_data _collection.zip](https://github.com/unt-iialab/INFO5731_FALL2020/blob/master/In_class_exercise/exercise_02_data_collection.zip)” to your local and un-zip it.\n",
        "\n",
        "*   Write a program to read all the txt files and save the sentences in all the files into one csv file with two columns, the first column is sentence id (txt file name+sentence line number), the second column is the sentence text content. (4 points)\n",
        "*   Remove all the punctuations from the sentences, save the processed sentences into a new column in the same csv file. (4 points)\n",
        "*   Ask the user to enter a word, return all the sentences that include this word, three kinds of information should be returned: sentence id, sentence text content, the count that user input word appear in the sentence. (4 points)\n",
        "\n"
      ]
    },
    {
      "cell_type": "code",
      "metadata": {
        "colab_type": "code",
        "id": "f3CUsrWOj1Xy",
        "colab": {
          "base_uri": "https://localhost:8080/",
          "height": 34
        },
        "outputId": "4726f0ec-ca67-4368-cd15-e43c6d4bbac0"
      },
      "source": [
        "!pwd #To check the current directory"
      ],
      "execution_count": null,
      "outputs": [
        {
          "output_type": "stream",
          "text": [
            "/content\n"
          ],
          "name": "stdout"
        }
      ]
    },
    {
      "cell_type": "code",
      "metadata": {
        "id": "mrc87KjdcUoy",
        "colab_type": "code",
        "colab": {}
      },
      "source": [
        "\n",
        "# I am using 'Glob' module to retrieve files\n",
        "\n",
        "import glob \n",
        "my_path=r'/content/sample_data/exercise2'\n",
        "my_files= glob.glob(my_path + \"/*.txt\")"
      ],
      "execution_count": null,
      "outputs": []
    },
    {
      "cell_type": "code",
      "metadata": {
        "id": "JAB3wMLecb4u",
        "colab_type": "code",
        "colab": {
          "base_uri": "https://localhost:8080/",
          "height": 524
        },
        "outputId": "49318830-725b-46d4-8bbb-07745da0d996"
      },
      "source": [
        "import pandas as pd\n",
        "abc=[]\n",
        "count=0\n",
        "for filename in my_files:\n",
        "\n",
        "#Saving sentences in all files to csv with two columns\n",
        "  abc.append(pd.read_csv(filename,delimiter=\"\\n\",header=None))\n",
        "  abc[count]=abc[count].reset_index()\n",
        "\n",
        "# replacing name of first column as 'sentence id'\n",
        "  abc[count][\"sentence id\"]= filename.replace(\"/content/sample_data/exercise2/\" , \"\")\n",
        "  count+=1\n",
        "\n",
        "my_sample= pd.concat(abc, ignore_index=True)\n",
        "for i in range(len(my_sample)):\n",
        "  my_sample[\"sentence id\"][i] = my_sample[\"sentence id\"][i] + \" \" +str(my_sample[\"index\"][i])\n",
        "\n",
        "#Renaming second column with \"sentence_text_content\"\n",
        "\n",
        "my_sample=my_sample[[\"sentence id\" , 0]].rename(columns={0:\"sentence_text_content\"})\n",
        "my_sample"
      ],
      "execution_count": null,
      "outputs": [
        {
          "output_type": "stream",
          "text": [
            "/usr/local/lib/python3.6/dist-packages/ipykernel_launcher.py:16: SettingWithCopyWarning: \n",
            "A value is trying to be set on a copy of a slice from a DataFrame\n",
            "\n",
            "See the caveats in the documentation: https://pandas.pydata.org/pandas-docs/stable/user_guide/indexing.html#returning-a-view-versus-a-copy\n",
            "  app.launch_new_instance()\n"
          ],
          "name": "stderr"
        },
        {
          "output_type": "execute_result",
          "data": {
            "text/html": [
              "<div>\n",
              "<style scoped>\n",
              "    .dataframe tbody tr th:only-of-type {\n",
              "        vertical-align: middle;\n",
              "    }\n",
              "\n",
              "    .dataframe tbody tr th {\n",
              "        vertical-align: top;\n",
              "    }\n",
              "\n",
              "    .dataframe thead th {\n",
              "        text-align: right;\n",
              "    }\n",
              "</style>\n",
              "<table border=\"1\" class=\"dataframe\">\n",
              "  <thead>\n",
              "    <tr style=\"text-align: right;\">\n",
              "      <th></th>\n",
              "      <th>sentence id</th>\n",
              "      <th>sentence_text_content</th>\n",
              "    </tr>\n",
              "  </thead>\n",
              "  <tbody>\n",
              "    <tr>\n",
              "      <th>0</th>\n",
              "      <td>ARTHROTEC.24.txt 0</td>\n",
              "      <td>I have taken 6 pills in the past (75mg each), ...</td>\n",
              "    </tr>\n",
              "    <tr>\n",
              "      <th>1</th>\n",
              "      <td>ARTHROTEC.24.txt 1</td>\n",
              "      <td>It induced severe vaginal cramps without bleed...</td>\n",
              "    </tr>\n",
              "    <tr>\n",
              "      <th>2</th>\n",
              "      <td>ARTHROTEC.24.txt 2</td>\n",
              "      <td>I ended up having to take additional medicatio...</td>\n",
              "    </tr>\n",
              "    <tr>\n",
              "      <th>3</th>\n",
              "      <td>ARTHROTEC.24.txt 3</td>\n",
              "      <td>Sat on the bathroom for 30 minutes.</td>\n",
              "    </tr>\n",
              "    <tr>\n",
              "      <th>4</th>\n",
              "      <td>ARTHROTEC.24.txt 4</td>\n",
              "      <td>If I knew I would have went to bed with a sore...</td>\n",
              "    </tr>\n",
              "    <tr>\n",
              "      <th>...</th>\n",
              "      <td>...</td>\n",
              "      <td>...</td>\n",
              "    </tr>\n",
              "    <tr>\n",
              "      <th>528</th>\n",
              "      <td>ARTHROTEC.54.txt 0</td>\n",
              "      <td>I have not experienced any of the side effects.</td>\n",
              "    </tr>\n",
              "    <tr>\n",
              "      <th>529</th>\n",
              "      <td>ARTHROTEC.54.txt 1</td>\n",
              "      <td>Arthrotec helps me get through the day.</td>\n",
              "    </tr>\n",
              "    <tr>\n",
              "      <th>530</th>\n",
              "      <td>ARTHROTEC.98.txt 0</td>\n",
              "      <td>HAVE BEEN TAKING 1 75 ARTHROTEC DAILY IT HAS A...</td>\n",
              "    </tr>\n",
              "    <tr>\n",
              "      <th>531</th>\n",
              "      <td>ARTHROTEC.81.txt 0</td>\n",
              "      <td>frequent heartburn.</td>\n",
              "    </tr>\n",
              "    <tr>\n",
              "      <th>532</th>\n",
              "      <td>ARTHROTEC.81.txt 1</td>\n",
              "      <td>take it once a day and it works very well on t...</td>\n",
              "    </tr>\n",
              "  </tbody>\n",
              "</table>\n",
              "<p>533 rows × 2 columns</p>\n",
              "</div>"
            ],
            "text/plain": [
              "            sentence id                              sentence_text_content\n",
              "0    ARTHROTEC.24.txt 0  I have taken 6 pills in the past (75mg each), ...\n",
              "1    ARTHROTEC.24.txt 1  It induced severe vaginal cramps without bleed...\n",
              "2    ARTHROTEC.24.txt 2  I ended up having to take additional medicatio...\n",
              "3    ARTHROTEC.24.txt 3                Sat on the bathroom for 30 minutes.\n",
              "4    ARTHROTEC.24.txt 4  If I knew I would have went to bed with a sore...\n",
              "..                  ...                                                ...\n",
              "528  ARTHROTEC.54.txt 0    I have not experienced any of the side effects.\n",
              "529  ARTHROTEC.54.txt 1            Arthrotec helps me get through the day.\n",
              "530  ARTHROTEC.98.txt 0  HAVE BEEN TAKING 1 75 ARTHROTEC DAILY IT HAS A...\n",
              "531  ARTHROTEC.81.txt 0                                frequent heartburn.\n",
              "532  ARTHROTEC.81.txt 1  take it once a day and it works very well on t...\n",
              "\n",
              "[533 rows x 2 columns]"
            ]
          },
          "metadata": {
            "tags": []
          },
          "execution_count": 17
        }
      ]
    },
    {
      "cell_type": "code",
      "metadata": {
        "id": "-kh86HUHchWS",
        "colab_type": "code",
        "colab": {
          "base_uri": "https://localhost:8080/",
          "height": 779
        },
        "outputId": "dd53cfed-236b-4dfe-9fc8-e669cb0a3762"
      },
      "source": [
        "# in 'my_sample'csv i am going to remove punctuations and then the resulted output is put in\n",
        "# other new column. I named it as 'processed_sentence'.\n",
        "\n",
        "my_sample[\"processed_sentence\"]=0\n",
        "\n",
        "# I am importing 're'module for using regular expressions\n",
        "\n",
        "import re\n",
        "for i in range(len(my_sample)):\n",
        "  my_sample[\"processed_sentence\"][i] = re.sub(r'[^\\w\\s]','', my_sample.sentence_text_content[i])\n",
        "my_sample"
      ],
      "execution_count": null,
      "outputs": [
        {
          "output_type": "stream",
          "text": [
            "/usr/local/lib/python3.6/dist-packages/ipykernel_launcher.py:9: SettingWithCopyWarning: \n",
            "A value is trying to be set on a copy of a slice from a DataFrame\n",
            "\n",
            "See the caveats in the documentation: https://pandas.pydata.org/pandas-docs/stable/user_guide/indexing.html#returning-a-view-versus-a-copy\n",
            "  if __name__ == '__main__':\n",
            "/usr/local/lib/python3.6/dist-packages/pandas/core/indexing.py:671: SettingWithCopyWarning: \n",
            "A value is trying to be set on a copy of a slice from a DataFrame\n",
            "\n",
            "See the caveats in the documentation: https://pandas.pydata.org/pandas-docs/stable/user_guide/indexing.html#returning-a-view-versus-a-copy\n",
            "  self._setitem_with_indexer(indexer, value)\n"
          ],
          "name": "stderr"
        },
        {
          "output_type": "execute_result",
          "data": {
            "text/html": [
              "<div>\n",
              "<style scoped>\n",
              "    .dataframe tbody tr th:only-of-type {\n",
              "        vertical-align: middle;\n",
              "    }\n",
              "\n",
              "    .dataframe tbody tr th {\n",
              "        vertical-align: top;\n",
              "    }\n",
              "\n",
              "    .dataframe thead th {\n",
              "        text-align: right;\n",
              "    }\n",
              "</style>\n",
              "<table border=\"1\" class=\"dataframe\">\n",
              "  <thead>\n",
              "    <tr style=\"text-align: right;\">\n",
              "      <th></th>\n",
              "      <th>sentence id</th>\n",
              "      <th>sentence_text_content</th>\n",
              "      <th>processed_sentence</th>\n",
              "    </tr>\n",
              "  </thead>\n",
              "  <tbody>\n",
              "    <tr>\n",
              "      <th>0</th>\n",
              "      <td>ARTHROTEC.24.txt 0</td>\n",
              "      <td>I have taken 6 pills in the past (75mg each), ...</td>\n",
              "      <td>I have taken 6 pills in the past 75mg each but...</td>\n",
              "    </tr>\n",
              "    <tr>\n",
              "      <th>1</th>\n",
              "      <td>ARTHROTEC.24.txt 1</td>\n",
              "      <td>It induced severe vaginal cramps without bleed...</td>\n",
              "      <td>It induced severe vaginal cramps without bleed...</td>\n",
              "    </tr>\n",
              "    <tr>\n",
              "      <th>2</th>\n",
              "      <td>ARTHROTEC.24.txt 2</td>\n",
              "      <td>I ended up having to take additional medicatio...</td>\n",
              "      <td>I ended up having to take additional medicatio...</td>\n",
              "    </tr>\n",
              "    <tr>\n",
              "      <th>3</th>\n",
              "      <td>ARTHROTEC.24.txt 3</td>\n",
              "      <td>Sat on the bathroom for 30 minutes.</td>\n",
              "      <td>Sat on the bathroom for 30 minutes</td>\n",
              "    </tr>\n",
              "    <tr>\n",
              "      <th>4</th>\n",
              "      <td>ARTHROTEC.24.txt 4</td>\n",
              "      <td>If I knew I would have went to bed with a sore...</td>\n",
              "      <td>If I knew I would have went to bed with a sore...</td>\n",
              "    </tr>\n",
              "    <tr>\n",
              "      <th>...</th>\n",
              "      <td>...</td>\n",
              "      <td>...</td>\n",
              "      <td>...</td>\n",
              "    </tr>\n",
              "    <tr>\n",
              "      <th>528</th>\n",
              "      <td>ARTHROTEC.54.txt 0</td>\n",
              "      <td>I have not experienced any of the side effects.</td>\n",
              "      <td>I have not experienced any of the side effects</td>\n",
              "    </tr>\n",
              "    <tr>\n",
              "      <th>529</th>\n",
              "      <td>ARTHROTEC.54.txt 1</td>\n",
              "      <td>Arthrotec helps me get through the day.</td>\n",
              "      <td>Arthrotec helps me get through the day</td>\n",
              "    </tr>\n",
              "    <tr>\n",
              "      <th>530</th>\n",
              "      <td>ARTHROTEC.98.txt 0</td>\n",
              "      <td>HAVE BEEN TAKING 1 75 ARTHROTEC DAILY IT HAS A...</td>\n",
              "      <td>HAVE BEEN TAKING 1 75 ARTHROTEC DAILY IT HAS A...</td>\n",
              "    </tr>\n",
              "    <tr>\n",
              "      <th>531</th>\n",
              "      <td>ARTHROTEC.81.txt 0</td>\n",
              "      <td>frequent heartburn.</td>\n",
              "      <td>frequent heartburn</td>\n",
              "    </tr>\n",
              "    <tr>\n",
              "      <th>532</th>\n",
              "      <td>ARTHROTEC.81.txt 1</td>\n",
              "      <td>take it once a day and it works very well on t...</td>\n",
              "      <td>take it once a day and it works very well on t...</td>\n",
              "    </tr>\n",
              "  </tbody>\n",
              "</table>\n",
              "<p>533 rows × 3 columns</p>\n",
              "</div>"
            ],
            "text/plain": [
              "            sentence id  ...                                 processed_sentence\n",
              "0    ARTHROTEC.24.txt 0  ...  I have taken 6 pills in the past 75mg each but...\n",
              "1    ARTHROTEC.24.txt 1  ...  It induced severe vaginal cramps without bleed...\n",
              "2    ARTHROTEC.24.txt 2  ...  I ended up having to take additional medicatio...\n",
              "3    ARTHROTEC.24.txt 3  ...                 Sat on the bathroom for 30 minutes\n",
              "4    ARTHROTEC.24.txt 4  ...  If I knew I would have went to bed with a sore...\n",
              "..                  ...  ...                                                ...\n",
              "528  ARTHROTEC.54.txt 0  ...     I have not experienced any of the side effects\n",
              "529  ARTHROTEC.54.txt 1  ...             Arthrotec helps me get through the day\n",
              "530  ARTHROTEC.98.txt 0  ...  HAVE BEEN TAKING 1 75 ARTHROTEC DAILY IT HAS A...\n",
              "531  ARTHROTEC.81.txt 0  ...                                 frequent heartburn\n",
              "532  ARTHROTEC.81.txt 1  ...  take it once a day and it works very well on t...\n",
              "\n",
              "[533 rows x 3 columns]"
            ]
          },
          "metadata": {
            "tags": []
          },
          "execution_count": 18
        }
      ]
    },
    {
      "cell_type": "code",
      "metadata": {
        "id": "DOGPXrFxcmyW",
        "colab_type": "code",
        "colab": {
          "base_uri": "https://localhost:8080/",
          "height": 453
        },
        "outputId": "2192a5e1-12fd-45dc-f113-cd9423c68545"
      },
      "source": [
        "# I am using 'input' keyword to allow user to search for a word\n",
        "my_word=input()\n",
        "print(\" The word I am going to search is\", my_word)\n",
        "\n",
        "# This will return all the sentences that contains this word\n",
        "\n",
        "my_sample[my_sample[\"processed_sentence\"].str.contains(my_word)]"
      ],
      "execution_count": null,
      "outputs": [
        {
          "output_type": "stream",
          "text": [
            "it\n",
            " The word I am going to search is it\n"
          ],
          "name": "stdout"
        },
        {
          "output_type": "execute_result",
          "data": {
            "text/html": [
              "<div>\n",
              "<style scoped>\n",
              "    .dataframe tbody tr th:only-of-type {\n",
              "        vertical-align: middle;\n",
              "    }\n",
              "\n",
              "    .dataframe tbody tr th {\n",
              "        vertical-align: top;\n",
              "    }\n",
              "\n",
              "    .dataframe thead th {\n",
              "        text-align: right;\n",
              "    }\n",
              "</style>\n",
              "<table border=\"1\" class=\"dataframe\">\n",
              "  <thead>\n",
              "    <tr style=\"text-align: right;\">\n",
              "      <th></th>\n",
              "      <th>sentence id</th>\n",
              "      <th>sentence_text_content</th>\n",
              "      <th>processed_sentence</th>\n",
              "    </tr>\n",
              "  </thead>\n",
              "  <tbody>\n",
              "    <tr>\n",
              "      <th>1</th>\n",
              "      <td>ARTHROTEC.24.txt 1</td>\n",
              "      <td>It induced severe vaginal cramps without bleed...</td>\n",
              "      <td>It induced severe vaginal cramps without bleed...</td>\n",
              "    </tr>\n",
              "    <tr>\n",
              "      <th>2</th>\n",
              "      <td>ARTHROTEC.24.txt 2</td>\n",
              "      <td>I ended up having to take additional medicatio...</td>\n",
              "      <td>I ended up having to take additional medicatio...</td>\n",
              "    </tr>\n",
              "    <tr>\n",
              "      <th>4</th>\n",
              "      <td>ARTHROTEC.24.txt 4</td>\n",
              "      <td>If I knew I would have went to bed with a sore...</td>\n",
              "      <td>If I knew I would have went to bed with a sore...</td>\n",
              "    </tr>\n",
              "    <tr>\n",
              "      <th>5</th>\n",
              "      <td>ARTHROTEC.24.txt 5</td>\n",
              "      <td>This is the only anti-inflammatory drug that h...</td>\n",
              "      <td>This is the only antiinflammatory drug that he...</td>\n",
              "    </tr>\n",
              "    <tr>\n",
              "      <th>6</th>\n",
              "      <td>ARTHROTEC.24.txt 6</td>\n",
              "      <td>I take it infrequently, once every several mon...</td>\n",
              "      <td>I take it infrequently once every several mont...</td>\n",
              "    </tr>\n",
              "    <tr>\n",
              "      <th>...</th>\n",
              "      <td>...</td>\n",
              "      <td>...</td>\n",
              "      <td>...</td>\n",
              "    </tr>\n",
              "    <tr>\n",
              "      <th>522</th>\n",
              "      <td>ARTHROTEC.42.txt 13</td>\n",
              "      <td>I stepped out to get some air but it didn't work.</td>\n",
              "      <td>I stepped out to get some air but it didnt work</td>\n",
              "    </tr>\n",
              "    <tr>\n",
              "      <th>525</th>\n",
              "      <td>ARTHROTEC.14.txt 0</td>\n",
              "      <td>Initially, I experienced a slight, but noticea...</td>\n",
              "      <td>Initially I experienced a slight but noticeabl...</td>\n",
              "    </tr>\n",
              "    <tr>\n",
              "      <th>526</th>\n",
              "      <td>ARTHROTEC.14.txt 1</td>\n",
              "      <td>Within a few days, I noticed acid reflux short...</td>\n",
              "      <td>Within a few days I noticed acid reflux shortl...</td>\n",
              "    </tr>\n",
              "    <tr>\n",
              "      <th>527</th>\n",
              "      <td>ARTHROTEC.14.txt 2</td>\n",
              "      <td>It got to the point that I was apprehensive ab...</td>\n",
              "      <td>It got to the point that I was apprehensive ab...</td>\n",
              "    </tr>\n",
              "    <tr>\n",
              "      <th>532</th>\n",
              "      <td>ARTHROTEC.81.txt 1</td>\n",
              "      <td>take it once a day and it works very well on t...</td>\n",
              "      <td>take it once a day and it works very well on t...</td>\n",
              "    </tr>\n",
              "  </tbody>\n",
              "</table>\n",
              "<p>231 rows × 3 columns</p>\n",
              "</div>"
            ],
            "text/plain": [
              "             sentence id  ...                                 processed_sentence\n",
              "1     ARTHROTEC.24.txt 1  ...  It induced severe vaginal cramps without bleed...\n",
              "2     ARTHROTEC.24.txt 2  ...  I ended up having to take additional medicatio...\n",
              "4     ARTHROTEC.24.txt 4  ...  If I knew I would have went to bed with a sore...\n",
              "5     ARTHROTEC.24.txt 5  ...  This is the only antiinflammatory drug that he...\n",
              "6     ARTHROTEC.24.txt 6  ...  I take it infrequently once every several mont...\n",
              "..                   ...  ...                                                ...\n",
              "522  ARTHROTEC.42.txt 13  ...    I stepped out to get some air but it didnt work\n",
              "525   ARTHROTEC.14.txt 0  ...  Initially I experienced a slight but noticeabl...\n",
              "526   ARTHROTEC.14.txt 1  ...  Within a few days I noticed acid reflux shortl...\n",
              "527   ARTHROTEC.14.txt 2  ...  It got to the point that I was apprehensive ab...\n",
              "532   ARTHROTEC.81.txt 1  ...  take it once a day and it works very well on t...\n",
              "\n",
              "[231 rows x 3 columns]"
            ]
          },
          "metadata": {
            "tags": []
          },
          "execution_count": 19
        }
      ]
    },
    {
      "cell_type": "code",
      "metadata": {
        "id": "ICjZ27zyctaL",
        "colab_type": "code",
        "colab": {
          "base_uri": "https://localhost:8080/",
          "height": 34
        },
        "outputId": "2e7858bb-0808-45c8-89d3-c9cd43738c85"
      },
      "source": [
        " # This shows us the count that user input word appear in the sentence\n",
        "\n",
        "my_sample[\"processed_sentence\"].str.count(my_word).sum()"
      ],
      "execution_count": null,
      "outputs": [
        {
          "output_type": "execute_result",
          "data": {
            "text/plain": [
              "316"
            ]
          },
          "metadata": {
            "tags": []
          },
          "execution_count": 20
        }
      ]
    },
    {
      "cell_type": "markdown",
      "metadata": {
        "colab_type": "text",
        "id": "-12cqmJEpZOh"
      },
      "source": [
        "(4) Install packages nltk, numpy, scipy, pandas, and sklearn on Google Colab. Write a program to test whether they are installed successfully. (3 points for extra)"
      ]
    },
    {
      "cell_type": "code",
      "metadata": {
        "colab_type": "code",
        "id": "f1pn1Zl2qK77",
        "colab": {
          "base_uri": "https://localhost:8080/",
          "height": 357
        },
        "outputId": "6f4bf627-9c81-44cd-81a1-eed4cf061351"
      },
      "source": [
        "# I am using 'pip' to install respective packages\n",
        "!pip install scipy\n",
        "!pip install numpy\n",
        "!pip install pandas\n",
        "!pip install sklearn\n",
        "!pip install nltk\n",
        "\n",
        "# I am using 'try' and 'except' concepts to test/check whether they are installed successfully or not\n",
        "try:\n",
        "    import numpy\n",
        "    print(\"Package 'numpy' is installed Sucessfully\")\n",
        "except ModuleNotFoundError:\n",
        "    print(\"Package 'numpy' is not installed\")\n",
        "try:\n",
        "    import numpy\n",
        "    print(\"Package 'scipy' is installed Sucessfully\")\n",
        "except ModuleNotFoundError:\n",
        "    print(\"Package 'scipy' is not installed\")\n",
        "try:\n",
        "    import numpy\n",
        "    print(\"Package 'pandas' is installed Sucessfully\")\n",
        "except ModuleNotFoundError:\n",
        "    print(\"Package 'pandas' is not installed\")\n",
        "try:\n",
        "    import numpy\n",
        "    print(\"Package 'sklearn' is installed Sucessfully\")\n",
        "except ModuleNotFoundError:\n",
        "    print(\"Package 'sklearn' is not installed\")\n",
        "try:\n",
        "    import numpy\n",
        "    print(\"Package 'nltk' is installed Sucessfully\")\n",
        "except ModuleNotFoundError:\n",
        "    print(\"Package 'nltk' is not installed\")\n",
        "\n",
        "\n"
      ],
      "execution_count": null,
      "outputs": [
        {
          "output_type": "stream",
          "text": [
            "Requirement already satisfied: scipy in /usr/local/lib/python3.6/dist-packages (1.4.1)\n",
            "Requirement already satisfied: numpy>=1.13.3 in /usr/local/lib/python3.6/dist-packages (from scipy) (1.18.5)\n",
            "Requirement already satisfied: numpy in /usr/local/lib/python3.6/dist-packages (1.18.5)\n",
            "Requirement already satisfied: pandas in /usr/local/lib/python3.6/dist-packages (1.0.5)\n",
            "Requirement already satisfied: python-dateutil>=2.6.1 in /usr/local/lib/python3.6/dist-packages (from pandas) (2.8.1)\n",
            "Requirement already satisfied: numpy>=1.13.3 in /usr/local/lib/python3.6/dist-packages (from pandas) (1.18.5)\n",
            "Requirement already satisfied: pytz>=2017.2 in /usr/local/lib/python3.6/dist-packages (from pandas) (2018.9)\n",
            "Requirement already satisfied: six>=1.5 in /usr/local/lib/python3.6/dist-packages (from python-dateutil>=2.6.1->pandas) (1.15.0)\n",
            "Requirement already satisfied: sklearn in /usr/local/lib/python3.6/dist-packages (0.0)\n",
            "Requirement already satisfied: scikit-learn in /usr/local/lib/python3.6/dist-packages (from sklearn) (0.22.2.post1)\n",
            "Requirement already satisfied: joblib>=0.11 in /usr/local/lib/python3.6/dist-packages (from scikit-learn->sklearn) (0.16.0)\n",
            "Requirement already satisfied: numpy>=1.11.0 in /usr/local/lib/python3.6/dist-packages (from scikit-learn->sklearn) (1.18.5)\n",
            "Requirement already satisfied: scipy>=0.17.0 in /usr/local/lib/python3.6/dist-packages (from scikit-learn->sklearn) (1.4.1)\n",
            "Requirement already satisfied: nltk in /usr/local/lib/python3.6/dist-packages (3.2.5)\n",
            "Requirement already satisfied: six in /usr/local/lib/python3.6/dist-packages (from nltk) (1.15.0)\n",
            "Package 'numpy' is installed Sucessfully\n",
            "Package 'scipy' is installed Sucessfully\n",
            "Package 'pandas' is installed Sucessfully\n",
            "Package 'sklearn' is installed Sucessfully\n",
            "Package 'nltk' is installed Sucessfully\n"
          ],
          "name": "stdout"
        }
      ]
    }
  ]
}