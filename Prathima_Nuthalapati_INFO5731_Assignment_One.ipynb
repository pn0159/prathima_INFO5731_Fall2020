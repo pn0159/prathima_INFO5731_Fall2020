{
  "nbformat": 4,
  "nbformat_minor": 0,
  "metadata": {
    "colab": {
      "name": "Prathima_Nuthalapati_INFO5731_Assignment_One.ipynb",
      "provenance": [],
      "collapsed_sections": [],
      "toc_visible": true,
      "include_colab_link": true
    },
    "kernelspec": {
      "name": "python3",
      "display_name": "Python 3"
    }
  },
  "cells": [
    {
      "cell_type": "markdown",
      "metadata": {
        "id": "view-in-github",
        "colab_type": "text"
      },
      "source": [
        "<a href=\"https://colab.research.google.com/github/pn0159/prathima_INFO5731_Fall2020/blob/master/Prathima_Nuthalapati_INFO5731_Assignment_One.ipynb\" target=\"_parent\"><img src=\"https://colab.research.google.com/assets/colab-badge.svg\" alt=\"Open In Colab\"/></a>"
      ]
    },
    {
      "cell_type": "markdown",
      "metadata": {
        "id": "Ryk8D1Q4Wsrp",
        "colab_type": "text"
      },
      "source": [
        "# **INFO5731 Assignment One**"
      ]
    },
    {
      "cell_type": "markdown",
      "metadata": {
        "id": "90_NR8c5XGWc",
        "colab_type": "text"
      },
      "source": [
        "# Question 1\n",
        "\n",
        "(20 points). Write a Python program to generate 12 random numbers between 1 and 100. Sort the list of numbers in ascending order and print it out. Sort the list of numbers in descending order and print it out. Calculate the average for the group and print it out."
      ]
    },
    {
      "cell_type": "code",
      "metadata": {
        "id": "5QX6bJjGWXY9",
        "colab_type": "code",
        "colab": {
          "base_uri": "https://localhost:8080/",
          "height": 238
        },
        "outputId": "8eabe099-f61d-42c4-df22-ee4affd3faca"
      },
      "source": [
        "# I need to generate 12 random numbers from 1-100\n",
        "# For this i am using built-in module'random' that can be used to generate random numbers\n",
        "# So i am importing that module\n",
        "# I used 'randint' function in random module, to return random number of given range\n",
        "\n",
        "import random\n",
        "import numpy as np\n",
        "# I used seed(),a method in python's random module, that initializes the random generator\n",
        "#useful to reproduce the data.Re-using seed value can generate same data.\n",
        "np.random.seed(52)\n",
        "\n",
        "#created a empty list so that i can append all generated random numbers to this list\n",
        "my_list=[]\n",
        "\n",
        "# I used for loop \n",
        "for i in range(1,13):\n",
        "  x=random.randint(1,100)\n",
        "  my_list.append(x)\n",
        "\n",
        "print(\"Generating Random Numbers between 1 and 100:\\n\", my_list)\n",
        "print(\"\\n\")\n",
        "\n",
        "#The sorted() function returns a sorted list of the specified iterable object.\n",
        "#We can specify ascending or descending order. Strings are sorted alphabetically, and numbers are sorted numerically.\n",
        "\n",
        "# Ascending order\n",
        "a=sorted(my_list)\n",
        "print(\"The list of Numbers in Ascending Order:\\n\", a)\n",
        "print(\"\\n\")\n",
        "\n",
        "#Descending order\n",
        "b=sorted(my_list, reverse=True)\n",
        "print(\"The list of Numbers in Descending Order:\\n\" , b)\n",
        "print(\"\\n\")\n",
        "\n",
        "# Calculating the average of the group:\n",
        "#Numpy library is commonly used library to work on large multi-dimensional arrays. \n",
        "#It also has a large collection of mathematical functions to be used on arrays to perform various tasks. \n",
        "#One important one is the mean() function that will give us the average for the list given.\n",
        "#In other way we can also use built-in-functions like sum() and len() to find avg=sum()/len()\n",
        "\n",
        "from numpy import mean\n",
        "Average_of_group=mean(my_list)\n",
        "print(\"The average of the group is:\", round(Average_of_group,2))\n",
        "\n"
      ],
      "execution_count": null,
      "outputs": [
        {
          "output_type": "stream",
          "text": [
            "Generating Random Numbers between 1 and 100:\n",
            " [44, 30, 78, 100, 6, 29, 18, 56, 72, 53, 36, 85]\n",
            "\n",
            "\n",
            "The list of Numbers in Ascending Order:\n",
            " [6, 18, 29, 30, 36, 44, 53, 56, 72, 78, 85, 100]\n",
            "\n",
            "\n",
            "The list of Numbers in Descending Order:\n",
            " [100, 85, 78, 72, 56, 53, 44, 36, 30, 29, 18, 6]\n",
            "\n",
            "\n",
            "The average of the group is: 50.58\n"
          ],
          "name": "stdout"
        }
      ]
    },
    {
      "cell_type": "markdown",
      "metadata": {
        "id": "1F_PZdH9Sh49",
        "colab_type": "text"
      },
      "source": [
        "# Question 2\n",
        "(25 points). Write a program that will do the following string formatting tasks:\n",
        "\n",
        "(1) Ask the user to enter two sentences.\n",
        "\n",
        "(2) Make each sentence into a list. Each element in the list should correspond to a word in the sentence. For example, if the sentence is \"Alas! Am I alive? This is my first python program\", the program should print out ['Alas, '!', 'Am', 'I', 'alive, '?', 'This', 'is', 'my', 'first', 'python', 'program'].\n",
        "\n",
        "(3) Compare the two sentences. Print out a list of words that occur in both sentences.\n",
        "\n",
        "(4) Remove any punctuation from the sentence and print it back out. It should remove at least the following characters, but it can remove more: period(“.”), comma (“,”), semicolon (“;”), and colon (“:”)\n",
        "\n",
        "(5) Count the number of vowels in the sentences. Print out each vowel and the number of times it appears in the sentences, such as: a:2, e:1, i:0, etc"
      ]
    },
    {
      "cell_type": "code",
      "metadata": {
        "id": "Y0oOSlsOS0cq",
        "colab_type": "code",
        "colab": {
          "base_uri": "https://localhost:8080/",
          "height": 119
        },
        "outputId": "8c215c40-55f7-4e45-f681-cce9bc341a9b"
      },
      "source": [
        "# For Question 2(1):\n",
        "# I used 'input' function to allow user to give input.\n",
        "first_sentence=input(\"Enter the first sentence:\\n \")\n",
        "second_sentence=input(\"Enter the second sentence:\\n \")\n",
        "\n",
        "#For Question2(2):\n",
        "# I am using 'findall()'frunction from 're' module because it finds all the matches\n",
        "#and returns them as a list of strings with each string representing one match\n",
        "\n",
        "import re\n",
        "reg_exp = r\"[0-9a-zA-Z_]+|\\$[\\d\\.]+|\\S+\"\n",
        "sen1=re.findall(reg_exp,first_sentence)\n",
        "sen2=re.findall(reg_exp,second_sentence)\n",
        "final_list=sen1+sen2\n",
        "print(\"The list where each element correspond to a word in the sentence:\")\n",
        "print(final_list)\n",
        "\n"
      ],
      "execution_count": null,
      "outputs": [
        {
          "output_type": "stream",
          "text": [
            "Enter the first sentence:\n",
            " I am Prathima Nuthalapati.\n",
            "Enter the second sentence:\n",
            " I am doing INFO5731 Course.\n",
            "The list where each element correspond to a word in the sentence:\n",
            "['I', 'am', 'Prathima', 'Nuthalapati', '.', 'I', 'am', 'doing', 'INFO5731', 'Course', '.']\n"
          ],
          "name": "stdout"
        }
      ]
    },
    {
      "cell_type": "code",
      "metadata": {
        "id": "PJ_4EDe60dqK",
        "colab_type": "code",
        "colab": {
          "base_uri": "https://localhost:8080/",
          "height": 85
        },
        "outputId": "125be6df-3d92-4ff0-9d04-9bc894e58829"
      },
      "source": [
        "#For Question2(3):\n",
        "\n",
        "print(\"The list of words that occur in both sentences are:\")\n",
        "for ch in sen1:\n",
        "  for ch2 in sen2:\n",
        "    if ch==ch2:\n",
        "      print(ch)"
      ],
      "execution_count": null,
      "outputs": [
        {
          "output_type": "stream",
          "text": [
            "The list of words that occur in both sentences are:\n",
            "I\n",
            "am\n",
            ".\n"
          ],
          "name": "stdout"
        }
      ]
    },
    {
      "cell_type": "code",
      "metadata": {
        "id": "DibebvU10iPy",
        "colab_type": "code",
        "colab": {}
      },
      "source": [
        "#For Question2(4):\n",
        "#Removing Punctuations\n",
        "#Defining punctuation\n",
        "punctuation_list=[':',';',',','.','!','$','@','#','%']\n",
        "no_punctuation=\"\"\n",
        "for abc in final_list:\n",
        "  if abc not in punctuation_list:\n",
        "    no_punctuation=no_punctuation + abc\n",
        "\n",
        "print(no_punctuation)"
      ],
      "execution_count": null,
      "outputs": []
    },
    {
      "cell_type": "code",
      "metadata": {
        "id": "PNKqG_920xRD",
        "colab_type": "code",
        "colab": {}
      },
      "source": [
        "#For Question2(5):\n",
        "# Counting for number of vowels.I am first making all to lower case and then check for vowels \"aeiou\".\n",
        "#instead of transforming into lower case we can also check for vowels as \"aeiouAEIOU\"\n",
        "first_sentence=first_sentence.lower()\n",
        "second_sentence=second_sentence.lower()\n",
        "vowel_counts = {}\n",
        "\n",
        "for i in \"aeiou\":\n",
        "  count=first_sentence.count(i)\n",
        "  count1=second_sentence.count(i)\n",
        "  vowel_counts[i]=count+count1"
      ],
      "execution_count": null,
      "outputs": []
    },
    {
      "cell_type": "code",
      "metadata": {
        "id": "e_-7ufzB1GHd",
        "colab_type": "code",
        "colab": {
          "base_uri": "https://localhost:8080/",
          "height": 51
        },
        "outputId": "25bdd031-bea1-4681-a0cb-b5680fa4fd56"
      },
      "source": [
        "print(\"The number of times vowel appears in each sentences:\")\n",
        "vowel_counts"
      ],
      "execution_count": null,
      "outputs": [
        {
          "output_type": "stream",
          "text": [
            "The number of times vowel appears in each sentences:\n"
          ],
          "name": "stdout"
        },
        {
          "output_type": "execute_result",
          "data": {
            "text/plain": [
              "{'a': 7, 'e': 1, 'i': 6, 'o': 3, 'u': 2}"
            ]
          },
          "metadata": {
            "tags": []
          },
          "execution_count": 10
        }
      ]
    },
    {
      "cell_type": "markdown",
      "metadata": {
        "id": "CmFoI4jDS9nx",
        "colab_type": "text"
      },
      "source": [
        "# Question 3 \n",
        "\n",
        "(15 points). The formula that describes the volume V of a sphere with radius r is the following:\n",
        "\n",
        "$ V=\\frac{4}{3}\\ast\\ \\pi\\ast\\ r^3 $\n",
        "\n",
        "Write a program to calculate the value of V when r is in the range of 1–10. Output the result in the following format:\n",
        "\n",
        "\tr\tV\n",
        "\t1\t…\n",
        "\t2\t…\n",
        "\t3\t…\n"
      ]
    },
    {
      "cell_type": "code",
      "metadata": {
        "id": "pEyqeioAT95b",
        "colab_type": "code",
        "colab": {
          "base_uri": "https://localhost:8080/",
          "height": 238
        },
        "outputId": "3089bbc3-e92b-403b-b743-761d14c00e87"
      },
      "source": [
        "#Calculating the Volume of a sphere for Radius in range 1-10\n",
        "#I can give 'pi' value or i can import 'pi' function from the module 'math'\n",
        "\n",
        "from math import pi\n",
        "print(\"The volume 'V' of a sphere with radius 'r' in the range 1-10:\\n\")\n",
        "print(\"r\\t\\tV\")\n",
        "\n",
        "# It was mentioned in question to calculate Volume for radius in range 1-10\n",
        "#so i am using 'for' loop to do this.Since i was given a specific range i used'range' function\n",
        "\n",
        "for r in range(1,11):\n",
        "  V=(4/3)*pi*r**3\n",
        "  print(r,\" \",V)\n",
        "\n"
      ],
      "execution_count": null,
      "outputs": [
        {
          "output_type": "stream",
          "text": [
            "The volume 'V' of a sphere with radius 'r' in the range 1-10:\n",
            "\n",
            "r\t\tV\n",
            "1   4.1887902047863905\n",
            "2   33.510321638291124\n",
            "3   113.09733552923254\n",
            "4   268.082573106329\n",
            "5   523.5987755982989\n",
            "6   904.7786842338603\n",
            "7   1436.7550402417319\n",
            "8   2144.660584850632\n",
            "9   3053.6280592892786\n",
            "10   4188.790204786391\n"
          ],
          "name": "stdout"
        }
      ]
    },
    {
      "cell_type": "markdown",
      "metadata": {
        "id": "z3tBE7E-Xn5X",
        "colab_type": "text"
      },
      "source": [
        "# Question 4\n",
        "\n",
        "(40 points). In the field of Data Science, data is often formatted as a comma-delimited (CSV) file, where each line in a file corresponds to a field's value. Refer to Chapter 9 (p. 106) for more information on comma-delimited files. To answer this question, you will need to download the file [Assignment1_denton_housing.csv](https://github.com/unt-iialab/INFO5731_FALL2020/blob/master/Assignments/Assignment1_denton_housing.csv) included with this assignment. The [file Assignment1_denton_housing.csv](https://github.com/unt-iialab/INFO5731_FALL2020/blob/master/Assignments/Assignment1_denton_housing.csv) contains statistics about housing in the city of Denton from 2008 to 2014. Write a program to implement the following questions.\n",
        "\n",
        "(1) (10 pts) Calculate the difference in the number of Occupied Housing Units from year to year and print it. The difference must be calculated for the consecutive years such as 2008-2009, 2009-2010 etc. Finally, print the values in the ascending order.\n",
        "\n",
        "(2) (10 pts) For all the years, calculate the percentage of housing units which are vacant an occupied. Print the results in the following format:\n",
        "\n",
        "Year Vacant Housing Units Occupied Housing Units\n",
        "\n",
        "    2008  30%   70%                          \n",
        "\t2009 ----- -----\n",
        "\t2010 ----- -----\n",
        "    2011 ----- -----\n",
        "\t2012 ----- -----\n",
        "    2013 ----- -----\n",
        "\t2014 ----- -----\n",
        "  \n",
        "  \n",
        "\n",
        "(3) (10 pts) Calculate and print the valued and years in which the highest number of housing units were vacant and occupied. Print the results in the following format:  \n",
        "\n",
        "                              Year\tValue\n",
        "\tVacant Housing Units\t  -----   -----\n",
        "\tOccupied Housing Units\t-----   -----\n",
        "\n",
        "(4) (10 pts) Calculate the harmonic mean of the total housing units and print it out. You can find the information about harmonic mean here: https://ncalculators.com/statistics/harmonic-mean-calculator.htm"
      ]
    },
    {
      "cell_type": "code",
      "metadata": {
        "id": "lqGYuHBhcsRH",
        "colab_type": "code",
        "colab": {}
      },
      "source": [
        "#For Question 4(1):\n",
        "#Initially i am reading the csv file.I am sorting for \"occupied housing units\" field.\n",
        "\n",
        "import pandas as pd\n",
        "my_dataframe=pd.read_csv(\"/content/sample_data/Assignment1_denton_housing.csv\",index_col=\"year\")\n"
      ],
      "execution_count": null,
      "outputs": []
    },
    {
      "cell_type": "code",
      "metadata": {
        "id": "D0gSvhg-5578",
        "colab_type": "code",
        "colab": {
          "base_uri": "https://localhost:8080/",
          "height": 323
        },
        "outputId": "45529ed6-1166-4971-c000-88b0e633cf62"
      },
      "source": [
        "my_dataframe.sort_index(axis=0,ascending=True,inplace=True)\n",
        "my_dataframe2=my_dataframe[my_dataframe.title_field==\"Occupied Housing Units\"].sort_index(axis=0,ascending=True)\n",
        "my_dataframe2=my_dataframe2.reset_index()\n",
        "\n",
        "#Calculating the difference in the number of Occupied Housing Units for the consecutive years.\n",
        "abc1=my_dataframe2[[\"year\",\"value\"]].values\n",
        "\n",
        "#Finding the difference in number of occupied housing units\n",
        "list_new=[]\n",
        "for i in range(len(abc1)-1):\n",
        "  list_new.append(abc1[i+1][1]-abc1[i][1])\n",
        "list_new\n",
        "\n",
        "#Printing the 'difference' value for consecutive years\n",
        "print(\"Consecutive_years\\tDifference_value\")\n",
        "for i in range(2008,2014):\n",
        "  print(i,\"-\",i+1,\"           \",list_new[i-2008])\n",
        "\n",
        "print(\"\\n\")\n",
        "\n",
        "#Printing the ascending order\n",
        "\n",
        "data_2 = [['2008-2009', -795],['2009-2010', 5091],['2010-2011', -303],['2011-2012', 1404],['2012-2013', 1565],['2013-2014', 2622]]  \n",
        "B = pd.DataFrame(data_2, columns = ['Consecutive_years',  'Difference_value'])\n",
        "sort_by_diff = B.sort_values('Difference_value') \n",
        "\n",
        "print(\"The Ascending order of the difference value for consecutive years is:\\n\")\n",
        "\n",
        "print(sort_by_diff)\n",
        "\n"
      ],
      "execution_count": null,
      "outputs": [
        {
          "output_type": "stream",
          "text": [
            "Consecutive_years\tDifference_value\n",
            "2008 - 2009             -795\n",
            "2009 - 2010             5091\n",
            "2010 - 2011             -303\n",
            "2011 - 2012             1404\n",
            "2012 - 2013             1565\n",
            "2013 - 2014             2622\n",
            "\n",
            "\n",
            "The Ascending order of the difference value for consecutive years is:\n",
            "\n",
            "  Consecutive_years  Difference_value\n",
            "0         2008-2009              -795\n",
            "2         2010-2011              -303\n",
            "3         2011-2012              1404\n",
            "4         2012-2013              1565\n",
            "5         2013-2014              2622\n",
            "1         2009-2010              5091\n"
          ],
          "name": "stdout"
        }
      ]
    },
    {
      "cell_type": "code",
      "metadata": {
        "id": "UcgiJpfP6OiC",
        "colab_type": "code",
        "colab": {
          "base_uri": "https://localhost:8080/",
          "height": 153
        },
        "outputId": "99fbef46-8a20-4ecf-a6e5-e26020a2a5fe"
      },
      "source": [
        "#For Question 4(2):\n",
        "my_dataframe.reset_index(inplace=True)\n",
        "occupied_list=[]\n",
        "vacant_list=[]\n",
        "\n",
        "#Finding the number of vacant and occupied housing units\n",
        "for i in range(2008,2015):\n",
        "  occupied_list.append((my_dataframe[(my_dataframe[\"year\"]==i) & (my_dataframe[\"title_field\"]==\"Occupied Housing Units\")].value.values)/(my_dataframe[(my_dataframe[\"year\"]==i) & (my_dataframe[\"title_field\"]==\"Total Housing Units\")].value.values))\n",
        "  vacant_list.append((my_dataframe[(my_dataframe[\"year\"]==i) & (my_dataframe[\"title_field\"]==\"Vacant Housing Units\")].value.values)/(my_dataframe[(my_dataframe[\"year\"]==i) & (my_dataframe[\"title_field\"]==\"Total Housing Units\")].value.values))\n",
        "\n",
        "#Printing the percentage of housing units which are vacant and occupied\n",
        "print(\"Years\\tVacant Housing Units\\t Occupied Housing Units\")\n",
        "for i in range(2008,2015):\n",
        "  print(i,\"\\t\\t\",\"{0:.0f}%\".format(vacant_list[i-2008][0]*100),\"\\t\\t\",\"{0:.0f}%\".format(occupied_list[i-2008][0]*100))"
      ],
      "execution_count": null,
      "outputs": [
        {
          "output_type": "stream",
          "text": [
            "Years\tVacant Housing Units\t Occupied Housing Units\n",
            "2008 \t\t 11% \t\t 89%\n",
            "2009 \t\t 9% \t\t 91%\n",
            "2010 \t\t 8% \t\t 92%\n",
            "2011 \t\t 9% \t\t 91%\n",
            "2012 \t\t 7% \t\t 93%\n",
            "2013 \t\t 9% \t\t 91%\n",
            "2014 \t\t 6% \t\t 94%\n"
          ],
          "name": "stdout"
        }
      ]
    },
    {
      "cell_type": "code",
      "metadata": {
        "id": "tQidPoNJ6Ph7",
        "colab_type": "code",
        "colab": {
          "base_uri": "https://localhost:8080/",
          "height": 68
        },
        "outputId": "c0d903da-e149-44af-e2b3-1654fcf61cd1"
      },
      "source": [
        "#For Question 4(3):\n",
        "\n",
        "new_list=[]\n",
        "new_list1=[]\n",
        "\n",
        "for i in range(2008,2015):\n",
        "  new_list.append(occupied_list[i-2008][0])\n",
        "  new_list1.append(vacant_list[i-2008][0])\n",
        "\n",
        "print(\"\\t\\t\\t Year\\t Value\")\n",
        "\n",
        "#Highest number of housing units were vacant and occupied\n",
        "\n",
        "for i in enumerate(occupied_list,start=2008):\n",
        "  if(i[1][0]==max(new_list)):\n",
        "    print(\"Occupied Housing Units \\t\",i[0],\"\\t\",(my_dataframe[(my_dataframe.year==i[0])&(my_dataframe.title_field==\"Occupied Housing Units\")].value.values)[0])\n",
        "    break\n",
        "for i in enumerate(vacant_list,start=2008):\n",
        "  if(i[1][0]==max(new_list1)):\n",
        "    print(\"Vacant Housing Units \\t\",i[0],\"\\t\",(my_dataframe[(my_dataframe.year==i[0])&(my_dataframe.title_field==\"Vacant Housing Units\")].value.values)[0])\n",
        "    break\n",
        "  \n"
      ],
      "execution_count": null,
      "outputs": [
        {
          "output_type": "stream",
          "text": [
            "\t\t\t Year\t Value\n",
            "Occupied Housing Units \t 2014 \t 46295\n",
            "Vacant Housing Units \t 2008 \t 4483\n"
          ],
          "name": "stdout"
        }
      ]
    },
    {
      "cell_type": "code",
      "metadata": {
        "id": "YCg7Ks-zLrnm",
        "colab_type": "code",
        "colab": {
          "base_uri": "https://localhost:8080/",
          "height": 34
        },
        "outputId": "625f2c78-267a-4533-9b23-0f2ee16a8bdb"
      },
      "source": [
        "#For Question 4(4):\n",
        "#Calculate the harmonic mean of the total housing units and print it out.\n",
        "# Harmonic mean is reciprocal of arithmetic mean\n",
        "#it is the number of observations, divided by the sum of reciprocals of the observations. \n",
        "#This is also is one of several kinds of average and it is appropriate for situations when the average of rates is desired.\n",
        "\n",
        "from scipy import stats\n",
        "\n",
        "my_dataframe[my_dataframe.title_field==\"Total Housing Units\"].value.values\n"
      ],
      "execution_count": null,
      "outputs": [
        {
          "output_type": "execute_result",
          "data": {
            "text/plain": [
              "array([41194, 39499, 44642, 44917, 45121, 47888, 49109])"
            ]
          },
          "metadata": {
            "tags": []
          },
          "execution_count": 157
        }
      ]
    },
    {
      "cell_type": "code",
      "metadata": {
        "id": "Bqo2ck7mLvqk",
        "colab_type": "code",
        "colab": {
          "base_uri": "https://localhost:8080/",
          "height": 68
        },
        "outputId": "e8101e6f-7ae1-4d82-a623-fd9086b53189"
      },
      "source": [
        "\n",
        "print(\"The harmonic mean of the total housing units:\\n\")\n",
        "stats.hmean(my_dataframe[my_dataframe.title_field==\"Total Housing Units\"].value.values)"
      ],
      "execution_count": null,
      "outputs": [
        {
          "output_type": "stream",
          "text": [
            "The harmonic mean of the total housing units:\n",
            "\n"
          ],
          "name": "stdout"
        },
        {
          "output_type": "execute_result",
          "data": {
            "text/plain": [
              "44398.28543969185"
            ]
          },
          "metadata": {
            "tags": []
          },
          "execution_count": 158
        }
      ]
    }
  ]
}